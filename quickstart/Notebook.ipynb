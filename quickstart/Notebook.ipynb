{
 "cells": [
  {
   "cell_type": "code",
   "execution_count": 8,
   "id": "meaning-intervention",
   "metadata": {},
   "outputs": [],
   "source": [
    "import pandas as pd\n",
    "from galyleo.galyleo_table import GalyleoTable\n",
    "from galyleo.galyleo_jupyterlab_client import GalyleoClient\n",
    "table = GalyleoTable('summary')\n",
    "table.load_from_dataframe(pd.read_csv('nightingale.csv'))\n",
    "client = GalyleoClient()\n",
    "client.send_data_to_dashboard(table)\n",
    "table1 = GalyleoTable('detail')\n",
    "table1.load_from_dataframe(pd.read_csv('records.csv'))\n",
    "client.send_data_to_dashboard(table1)"
   ]
  },
  {
   "cell_type": "code",
   "execution_count": null,
   "id": "broken-religious",
   "metadata": {},
   "outputs": [],
   "source": []
  }
 ],
 "metadata": {
  "kernelspec": {
   "display_name": "Python 3",
   "language": "python",
   "name": "python3"
  },
  "language_info": {
   "codemirror_mode": {
    "name": "ipython",
    "version": 3
   },
   "file_extension": ".py",
   "mimetype": "text/x-python",
   "name": "python",
   "nbconvert_exporter": "python",
   "pygments_lexer": "ipython3",
   "version": "3.8.8"
  }
 },
 "nbformat": 4,
 "nbformat_minor": 5
}
