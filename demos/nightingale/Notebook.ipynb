{
 "cells": [
  {
   "cell_type": "markdown",
   "id": "distributed-survey",
   "metadata": {},
   "source": [
    "# Florence Nightingale's Dataset\n",
    "Modern hospital care and nursing can be said to have begun with the English statistician and nurse [Florence Nightingale](https://en.wikipedia.org/wiki/Florence_Nightingale).  During the [Crimean War](https://en.wikipedia.org/wiki/Crimean_War), Ms. Nightingale tended to wounded troops, and invented modern hospital practices: primarily, sanitation and disinfection.  To show the efficacy of her techniques, she counted deaths due to disease, wounds, and undetermined causes, showing that disease was the primary killer in war.  She showed that after her reforms, deaths dropped dramatically, and deaths due to disease more so.\n",
    "\n",
    "The original dataset is taken from [Nightingale's Rose](https://github.com/datasets-io/nightingales-rose/), and is copyright the [Compute.io](https://github.com/compute-io) authors."
   ]
  },
  {
   "cell_type": "code",
   "execution_count": null,
   "id": "indoor-compression",
   "metadata": {},
   "outputs": [],
   "source": [
    "import pandas as pd\n",
    "from galyleo.galyleo_table import GalyleoTable\n",
    "from galyleo.galyleo_jupyterlab_client import GalyleoClient"
   ]
  },
  {
   "cell_type": "markdown",
   "id": "finite-ensemble",
   "metadata": {},
   "source": [
    "Read the original data "
   ]
  },
  {
   "cell_type": "code",
   "execution_count": null,
   "id": "hawaiian-package",
   "metadata": {},
   "outputs": [],
   "source": [
    "nightingale = pd.read_json('https://raw.githubusercontent.com/datasets-io/nightingales-rose/master/lib/dataset.json')"
   ]
  },
  {
   "cell_type": "markdown",
   "id": "accepting-cooler",
   "metadata": {},
   "source": [
    "Extract the month from the date, and set so month 1 is April 1854, Month 24 is march 1856, then get rid of the spurious date column"
   ]
  },
  {
   "cell_type": "code",
   "execution_count": null,
   "id": "powered-parking",
   "metadata": {},
   "outputs": [],
   "source": [
    "nightingale['month'] = nightingale['date'].apply(lambda date: (date.month - 3) + 12 * (date.year - 1854))\n",
    "nightingale = nightingale.iloc[:, 1:]"
   ]
  },
  {
   "cell_type": "markdown",
   "id": "signal-celebration",
   "metadata": {},
   "source": [
    "Compute the total deaths each month, and then use these to compute the percentage of deaths due to each cause."
   ]
  },
  {
   "cell_type": "code",
   "execution_count": null,
   "id": "small-adapter",
   "metadata": {},
   "outputs": [],
   "source": [
    "nightingale['total'] = nightingale['disease'] + nightingale['wounds'] + nightingale['other']\n",
    "def compute_pct(column_name):\n",
    "    nightingale[f'{column_name}_pct'] = nightingale[column_name]/nightingale['total'] * 100\n",
    "for column in columns: compute_pct(column)"
   ]
  },
  {
   "cell_type": "markdown",
   "id": "chief-custom",
   "metadata": {},
   "source": [
    "Make and send the nightingale table (as summary) to the dashboard"
   ]
  },
  {
   "cell_type": "code",
   "execution_count": null,
   "id": "forced-owner",
   "metadata": {},
   "outputs": [],
   "source": [
    "table = GalyleoTable('summary')\n",
    "table.load_from_dataframe(nightingale)\n",
    "client = GalyleoClient()\n",
    "client.send_data_to_dashboard(table)"
   ]
  },
  {
   "cell_type": "markdown",
   "id": "instant-republic",
   "metadata": {},
   "source": [
    "Compute the detail table.  This has columns (month, deaths, cause).  This is used for the pie charts above the main line charts."
   ]
  },
  {
   "cell_type": "code",
   "execution_count": null,
   "id": "matched-delicious",
   "metadata": {},
   "outputs": [],
   "source": [
    "from functools import reduce\n",
    "# Compute the table (month, death, cause) for each cause\n",
    "def extract_cause_table(cause):\n",
    "    slice = nightingale[['month', cause]].rename(columns = {cause: 'deaths'})\n",
    "    slice['cause'] = cause\n",
    "    return slice\n",
    "# form the cause tables\n",
    "cause_tables = [extract_cause_table(column) for column in columns]\n",
    "# use reduce to merge them into a single table\n",
    "merged = reduce(lambda acc, cur: acc.merge(cur, how = \"outer\"), cause_tables[1:], cause_tables[0])\n",
    "# Use this to create the detail table and send to the dashboard\n",
    "detail = GalyleoTable('detail')\n",
    "detail.load_from_dataframe(merged)\n",
    "client.send_data_to_dashboard(detail)"
   ]
  },
  {
   "cell_type": "code",
   "execution_count": null,
   "id": "collective-toronto",
   "metadata": {},
   "outputs": [],
   "source": []
  }
 ],
 "metadata": {
  "kernelspec": {
   "display_name": "Python 3",
   "language": "python",
   "name": "python3"
  },
  "language_info": {
   "codemirror_mode": {
    "name": "ipython",
    "version": 3
   },
   "file_extension": ".py",
   "mimetype": "text/x-python",
   "name": "python",
   "nbconvert_exporter": "python",
   "pygments_lexer": "ipython3",
   "version": "3.8.8"
  }
 },
 "nbformat": 4,
 "nbformat_minor": 5
}
