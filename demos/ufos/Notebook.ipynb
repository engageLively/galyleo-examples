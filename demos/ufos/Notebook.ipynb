{
 "cells": [
  {
   "cell_type": "markdown",
   "id": "valuable-magnitude",
   "metadata": {},
   "source": [
    "Import the libraries, as always, and read in the data"
   ]
  },
  {
   "cell_type": "code",
   "execution_count": 1,
   "id": "final-entity",
   "metadata": {},
   "outputs": [],
   "source": [
    "from galyleo.galyleo_table import GalyleoTable\n",
    "from galyleo.galyleo_constants import GALYLEO_STRING, GALYLEO_NUMBER\n",
    "from galyleo.galyleo_jupyterlab_client import GalyleoClient\n",
    "import csv\n",
    "\n",
    "def state_code(current_code):\n",
    "    if current_code == '': return ''\n",
    "    canada_codes = {'ab', 'bc', 'sk', 'mn', 'on', 'qc', 'pe', 'nb', 'ns', 'nl', 'nt', 'nu', 'yt'}\n",
    "    country = 'CA' if current_code in canada_codes else 'US'\n",
    "    return f'{country}-{current_code.upper()}'\n",
    "\n",
    "def cleanse_row(row):\n",
    "    values = [entry.strip() for entry in row]\n",
    "    return  [int(values[i]) for i in range(3) ] + values[3:5] + [state_code(values[5]), values[6], float(values[7])]\n",
    "\n",
    "# read the file and make a table\n",
    "with open('ufos.csv', 'r') as ufo_file:\n",
    "    reader = csv.reader(ufo_file)\n",
    "    column_names = next(reader)\n",
    "    data = [cleanse_row(row) for row in reader]\n",
    "ufo_file.close()"
   ]
  },
  {
   "cell_type": "code",
   "execution_count": 2,
   "id": "suspected-commerce",
   "metadata": {},
   "outputs": [
    {
     "data": {
      "text/plain": [
       "[[588, 10, 1949, 'night', 'us', 'US-TX', 'cylinder', 2700.0],\n",
       " [588, 10, 1949, 'night', 'us', 'US-TX', 'light', 7200.0],\n",
       " [2779, 10, 1955, 'afternoon', 'gb', '', 'circle', 20.0],\n",
       " [3145, 10, 1956, 'night', 'us', 'US-TX', 'circle', 20.0],\n",
       " [4606, 10, 1960, 'night', 'us', 'US-HI', 'light', 900.0],\n",
       " [4971, 10, 1961, 'night', 'us', 'US-TN', 'sphere', 300.0],\n",
       " [6432, 10, 1965, 'night', 'gb', '', 'circle', 180.0],\n",
       " [6432, 10, 1965, 'night', 'us', 'US-CT', 'disk', 1200.0],\n",
       " [6797, 10, 1966, 'night', 'us', 'US-AL', 'disk', 180.0],\n",
       " [6797, 10, 1966, 'night', 'us', 'US-FL', 'disk', 120.0]]"
      ]
     },
     "execution_count": 2,
     "metadata": {},
     "output_type": "execute_result"
    }
   ],
   "source": [
    "data[:10]"
   ]
  },
  {
   "cell_type": "code",
   "execution_count": 3,
   "id": "digital-haven",
   "metadata": {},
   "outputs": [],
   "source": [
    "column_names = [name.strip() for name in column_names]\n",
    "schema = [(column_names[i], GALYLEO_NUMBER) for i in range(3)] + [(column_names[i], GALYLEO_STRING) for i in range(3,7)] + [(column_names[7], GALYLEO_STRING)]\n",
    "table = GalyleoTable('ufos')\n",
    "table.load_from_schema_and_data(schema, data)"
   ]
  },
  {
   "cell_type": "markdown",
   "id": "minimal-riding",
   "metadata": {},
   "source": [
    "Aggregate by year, month, country"
   ]
  },
  {
   "cell_type": "code",
   "execution_count": 4,
   "id": "statewide-listing",
   "metadata": {},
   "outputs": [],
   "source": [
    "sightings_by_country_year_month = table.aggregate_by([ 'country', 'year', 'month'], 'count', 'aggregate_cym')"
   ]
  },
  {
   "cell_type": "markdown",
   "id": "preliminary-requirement",
   "metadata": {},
   "source": [
    "Create a Dashboard using the Launcher or the File menu, then execute the next cell to send the data to it"
   ]
  },
  {
   "cell_type": "code",
   "execution_count": 5,
   "id": "surrounded-amount",
   "metadata": {},
   "outputs": [],
   "source": [
    "client = GalyleoClient()\n",
    "client.send_data_to_dashboard(sightings_by_country_year_month)"
   ]
  },
  {
   "cell_type": "markdown",
   "id": "described-raising",
   "metadata": {},
   "source": [
    "Aggregate by year, and country "
   ]
  },
  {
   "cell_type": "code",
   "execution_count": 7,
   "id": "broadband-printing",
   "metadata": {},
   "outputs": [],
   "source": [
    "sightings_by_country_year = table.aggregate_by( [ 'country', 'year', ], 'count', 'aggregate_cy')\n",
    "client.send_data_to_dashboard(sightings_by_country_year)"
   ]
  },
  {
   "cell_type": "markdown",
   "id": "progressive-flower",
   "metadata": {},
   "source": [
    "Use this to get North American sightings"
   ]
  },
  {
   "cell_type": "code",
   "execution_count": 8,
   "id": "spatial-absorption",
   "metadata": {},
   "outputs": [],
   "source": [
    "north_american_sightings = table.filter_by_function(\"country\", lambda x: x in {'ca', 'us'}, 'north_america_table')"
   ]
  },
  {
   "cell_type": "markdown",
   "id": "unexpected-madison",
   "metadata": {},
   "source": [
    "Aggregate by state, year, month and by state and month"
   ]
  },
  {
   "cell_type": "code",
   "execution_count": 9,
   "id": "certified-invitation",
   "metadata": {},
   "outputs": [],
   "source": [
    "sightings_by_state_year_month = north_american_sightings.aggregate_by([ 'state', 'year', 'month'], 'count', 'aggregate_sym')\n",
    "sightings_by_state_year = north_american_sightings.aggregate_by([ 'state', 'year'], 'count', 'aggregate_sy')\n",
    "client.send_data_to_dashboard(sightings_by_state_year)\n",
    "client.send_data_to_dashboard(sightings_by_state_year_month)"
   ]
  },
  {
   "cell_type": "markdown",
   "id": "demanding-socket",
   "metadata": {},
   "source": [
    "Aggregate by state, year, month, type and by country, year, month, type"
   ]
  },
  {
   "cell_type": "code",
   "execution_count": 10,
   "id": "academic-masters",
   "metadata": {},
   "outputs": [],
   "source": [
    "sightings_by_state_year_type = north_american_sightings.aggregate_by([ 'state', 'year', 'type'], 'count', 'aggregate_syt')\n",
    "sightings_by_country_year_type = table.aggregate_by([ 'country', 'year', 'type'], 'count', 'aggregate_cyt')\n",
    "client.send_data_to_dashboard(sightings_by_state_year_type)\n",
    "client.send_data_to_dashboard(sightings_by_country_year_type)"
   ]
  }
 ],
 "metadata": {
  "kernelspec": {
   "display_name": "Python 3",
   "language": "python",
   "name": "python3"
  },
  "language_info": {
   "codemirror_mode": {
    "name": "ipython",
    "version": 3
   },
   "file_extension": ".py",
   "mimetype": "text/x-python",
   "name": "python",
   "nbconvert_exporter": "python",
   "pygments_lexer": "ipython3",
   "version": "3.8.8"
  }
 },
 "nbformat": 4,
 "nbformat_minor": 5
}
