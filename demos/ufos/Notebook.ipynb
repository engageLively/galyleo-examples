{
 "cells": [
  {
   "cell_type": "markdown",
   "id": "light-controversy",
   "metadata": {},
   "source": [
    "Import the libraries, as always, and read in the data"
   ]
  },
  {
   "cell_type": "code",
   "execution_count": 37,
   "id": "super-insertion",
   "metadata": {},
   "outputs": [],
   "source": [
    "from galyleo.galyleo_table import GalyleoTable\n",
    "from galyleo.galyleo_constants import GALYLEO_STRING, GALYLEO_NUMBER\n",
    "from galyleo.galyleo_jupyterlab_client import GalyleoClient\n",
    "import csv\n",
    "\n",
    "def state_code(current_code):\n",
    "    if current_code == '': return ''\n",
    "    canada_codes = {'ab', 'bc', 'sk', 'mn', 'on', 'qc', 'pe', 'nb', 'ns', 'nl', 'nt', 'nu', 'yt'}\n",
    "    country = 'CA' if current_code in canada_codes else 'US'\n",
    "    return f'{country}-{current_code.upper()}'\n",
    "\n",
    "def cleanse_row(row):\n",
    "    values = [entry.strip() for entry in row]\n",
    "    return  [int(values[i]) for i in range(3) ] + values[3:5] + [state_code(values[5]), values[6], float(values[7])]\n",
    "\n",
    "# read the file and make a table\n",
    "with open('ufos.csv', 'r') as ufo_file:\n",
    "    reader = csv.reader(ufo_file)\n",
    "    column_names = next(reader)\n",
    "    data = [cleanse_row(row) for row in reader]\n",
    "ufo_file.close()"
   ]
  },
  {
   "cell_type": "code",
   "execution_count": 38,
   "id": "threaded-suspect",
   "metadata": {},
   "outputs": [
    {
     "data": {
      "text/plain": [
       "[[588, 10, 1949, 'night', 'us', 'US-TX', 'cylinder', 2700.0],\n",
       " [588, 10, 1949, 'night', 'us', 'US-TX', 'light', 7200.0],\n",
       " [2779, 10, 1955, 'afternoon', 'gb', '', 'circle', 20.0],\n",
       " [3145, 10, 1956, 'night', 'us', 'US-TX', 'circle', 20.0],\n",
       " [4606, 10, 1960, 'night', 'us', 'US-HI', 'light', 900.0],\n",
       " [4971, 10, 1961, 'night', 'us', 'US-TN', 'sphere', 300.0],\n",
       " [6432, 10, 1965, 'night', 'gb', '', 'circle', 180.0],\n",
       " [6432, 10, 1965, 'night', 'us', 'US-CT', 'disk', 1200.0],\n",
       " [6797, 10, 1966, 'night', 'us', 'US-AL', 'disk', 180.0],\n",
       " [6797, 10, 1966, 'night', 'us', 'US-FL', 'disk', 120.0]]"
      ]
     },
     "execution_count": 38,
     "metadata": {},
     "output_type": "execute_result"
    }
   ],
   "source": [
    "data[:10]"
   ]
  },
  {
   "cell_type": "code",
   "execution_count": 39,
   "id": "stainless-lancaster",
   "metadata": {},
   "outputs": [],
   "source": [
    "column_names = [name.strip() for name in column_names]\n",
    "schema = [(column_names[i], GALYLEO_NUMBER) for i in range(3)] + [(column_names[i], GALYLEO_STRING) for i in range(3,7)] + [(column_names[7], GALYLEO_STRING)]\n",
    "table = GalyleoTable('ufos')\n",
    "table.load_from_schema_and_data(schema, data)"
   ]
  },
  {
   "cell_type": "markdown",
   "id": "velvet-adolescent",
   "metadata": {},
   "source": [
    "Aggregating by a set of columns is something we will do a lot, so let's have a function to do that.  This function takes in a list of column names, a table,  a name for a new table and the name for the new column, computes the list of unique combinations of the values of the columns, and returns a table whose columns are the column names + count_column_name, and whose rows are the unique combinations and the count of each combination"
   ]
  },
  {
   "cell_type": "code",
   "execution_count": 40,
   "id": "maritime-french",
   "metadata": {},
   "outputs": [],
   "source": [
    "from itertools import product\n",
    "def aggregate_by(galyleo_table,  column_list, new_table_name, count_column_name):\n",
    "    names = set(column_list)\n",
    "    indices = [i for i in range(len(galyleo_table.schema)) if galyleo_table.schema[i][\"name\"] in names]\n",
    "    unique_values = [set(row[indices[i]] for row in galyleo_table.data) for i in range(len(indices))]\n",
    "    keys = list(product(*unique_values))\n",
    "    count = {}\n",
    "    for key in keys: count[key] = 0\n",
    "    for row in galyleo_table.data:\n",
    "        key = tuple([row[i] for i in indices])\n",
    "        count[key] = count[key] + 1\n",
    "    usable_keys = [key for key in keys if count[key] > 0]\n",
    "    schema = [entry for entry in galyleo_table.schema if entry[\"name\"] in names] + [{\"name\": \"count\", \"type\": GALYLEO_NUMBER}]\n",
    "    result = GalyleoTable(new_table_name)\n",
    "    data = [list(key) + [count[key]] for key in usable_keys]\n",
    "    result.load_from_dictionary({\"columns\": schema, \"rows\": data})\n",
    "    return result"
   ]
  },
  {
   "cell_type": "markdown",
   "id": "whole-clothing",
   "metadata": {},
   "source": [
    "Aggregate by year, month, country"
   ]
  },
  {
   "cell_type": "code",
   "execution_count": 41,
   "id": "chubby-chess",
   "metadata": {},
   "outputs": [],
   "source": [
    "sightings_by_country_year_month = aggregate_by(table,  [ 'country', 'year', 'month'], 'aggregate_cym', 'count')"
   ]
  },
  {
   "cell_type": "markdown",
   "id": "loaded-milton",
   "metadata": {},
   "source": [
    "Create a Dashboard using the Launcher or the File menu, then execute the next cell to send the data to it"
   ]
  },
  {
   "cell_type": "code",
   "execution_count": 42,
   "id": "american-price",
   "metadata": {},
   "outputs": [],
   "source": [
    "client = GalyleoClient()\n",
    "client.send_data_to_dashboard(sightings_by_country_year_month)"
   ]
  },
  {
   "cell_type": "markdown",
   "id": "muslim-negative",
   "metadata": {},
   "source": [
    "Aggregate by year, and country "
   ]
  },
  {
   "cell_type": "code",
   "execution_count": 43,
   "id": "faced-thread",
   "metadata": {},
   "outputs": [],
   "source": [
    "sightings_by_country_year = aggregate_by(table, [ 'country', 'year', ], 'aggregate_cy', 'count')\n",
    "client.send_data_to_dashboard(sightings_by_country_year)"
   ]
  },
  {
   "cell_type": "markdown",
   "id": "stuffed-journalist",
   "metadata": {},
   "source": [
    "A function to filter data by a column_name.  This is something we do interactively in the dashboard, but sometimes it's useful to do it statically, here.  Very simple, just apply the function to the right column in each data set, then return a table with the same column and only those rows which match the filter"
   ]
  },
  {
   "cell_type": "code",
   "execution_count": 44,
   "id": "fitting-globe",
   "metadata": {},
   "outputs": [],
   "source": [
    "def filter_by_column(galyleo_table, column_name, filter_function, new_table_name):\n",
    "    index = [i for i in range(len(galyleo_table.schema)) if galyleo_table.schema[i][\"name\"] == column_name][0]\n",
    "    rows = [row[:] for row in galyleo_table.data if filter_function(row[index])]\n",
    "    result = GalyleoTable(new_table_name)\n",
    "    result.load_from_dictionary({\"columns\": galyleo_table.schema[:], \"rows\": rows})\n",
    "    return result\n",
    "    "
   ]
  },
  {
   "cell_type": "markdown",
   "id": "commercial-expense",
   "metadata": {},
   "source": [
    "Use this to get North American sightings"
   ]
  },
  {
   "cell_type": "code",
   "execution_count": 45,
   "id": "unnecessary-context",
   "metadata": {},
   "outputs": [],
   "source": [
    "north_american_sightings = filter_by_column(table, \"country\", lambda x: x in {'ca', 'us'}, 'north_america_table')"
   ]
  },
  {
   "cell_type": "markdown",
   "id": "educational-eleven",
   "metadata": {},
   "source": [
    "Aggregate by state, year, month and by state and month"
   ]
  },
  {
   "cell_type": "code",
   "execution_count": 48,
   "id": "conventional-ideal",
   "metadata": {},
   "outputs": [],
   "source": [
    "sightings_by_state_year_month = aggregate_by(north_american_sightings,  [ 'state', 'year', 'month'], 'aggregate_sym', 'count')\n",
    "sightings_by_state_year = aggregate_by(north_american_sightings,  [ 'state', 'year'], 'aggregate_sy', 'count')\n",
    "client.send_data_to_dashboard(sightings_by_state_year)\n",
    "client.send_data_to_dashboard(sightings_by_state_year_month)"
   ]
  },
  {
   "cell_type": "markdown",
   "id": "leading-worth",
   "metadata": {},
   "source": [
    "Aggregate by state, year, month, type and by country, year, month, type"
   ]
  },
  {
   "cell_type": "code",
   "execution_count": 51,
   "id": "through-faith",
   "metadata": {},
   "outputs": [],
   "source": [
    "sightings_by_state_year_type = aggregate_by(north_american_sightings,  [ 'state', 'year', 'type'], 'aggregate_syt', 'count')\n",
    "sightings_by_country_year_type = aggregate_by(table,  [ 'country', 'year', 'type'], 'aggregate_cyt', 'count')\n",
    "client.send_data_to_dashboard(sightings_by_state_year_type)\n",
    "client.send_data_to_dashboard(sightings_by_country_year_type)"
   ]
  },
  {
   "cell_type": "code",
   "execution_count": null,
   "id": "another-mortgage",
   "metadata": {},
   "outputs": [],
   "source": []
  }
 ],
 "metadata": {
  "kernelspec": {
   "display_name": "Python 3",
   "language": "python",
   "name": "python3"
  },
  "language_info": {
   "codemirror_mode": {
    "name": "ipython",
    "version": 3
   },
   "file_extension": ".py",
   "mimetype": "text/x-python",
   "name": "python",
   "nbconvert_exporter": "python",
   "pygments_lexer": "ipython3",
   "version": "3.8.8"
  }
 },
 "nbformat": 4,
 "nbformat_minor": 5
}
