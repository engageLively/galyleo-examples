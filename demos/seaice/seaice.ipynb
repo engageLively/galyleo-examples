{
 "cells": [
  {
   "cell_type": "code",
   "execution_count": 1,
   "id": "86863f3f-8b47-4645-b43d-95443f6b4e82",
   "metadata": {
    "tags": []
   },
   "outputs": [],
   "source": [
    "import pandas as pd\n",
    "import math\n",
    "from statistics import mean \n",
    "import itertools"
   ]
  },
  {
   "cell_type": "markdown",
   "id": "77b8491a-23a0-42df-ad0d-481fb1a59d24",
   "metadata": {},
   "source": [
    "Read the raw observation data fromthe csv file"
   ]
  },
  {
   "cell_type": "code",
   "execution_count": 2,
   "id": "55fe82d7-a023-454c-b432-fa1cd7f9c8f8",
   "metadata": {
    "tags": []
   },
   "outputs": [],
   "source": [
    "sea_ice_data = pd.read_csv('seaice.csv', index_col=None)"
   ]
  },
  {
   "cell_type": "markdown",
   "id": "ddddfde4-49e0-41e4-8e22-7aedcaf753e6",
   "metadata": {},
   "source": [
    "(Year, Month) is not a good index, so associate a month from the start with each pair (year, month).  Very simple, the month num is just 12 * (year-1978) + month.  Once the calculation is in place, apply it to every row of the sea ice dataframe and take a look at it"
   ]
  },
  {
   "cell_type": "code",
   "execution_count": 3,
   "id": "9c2987f9-4c7b-4934-9ff1-31e56781303d",
   "metadata": {
    "tags": []
   },
   "outputs": [],
   "source": [
    "def month_from_start(month, year):\n",
    "    return month + 12 * (year - 1978)"
   ]
  },
  {
   "cell_type": "code",
   "execution_count": 4,
   "id": "300b18a7-3e70-4f02-94ab-8c9b024e5fc1",
   "metadata": {
    "tags": []
   },
   "outputs": [],
   "source": [
    "def month_from_row(row):\n",
    "    return month_from_start(row['Month'], row['Year'])"
   ]
  },
  {
   "cell_type": "code",
   "execution_count": 5,
   "id": "239b0ff6-c2a9-41e4-a6c8-1237ea5783ff",
   "metadata": {
    "tags": []
   },
   "outputs": [],
   "source": [
    "sea_ice_data['MonthNum'] = sea_ice_data.apply(month_from_row, axis=1)"
   ]
  },
  {
   "cell_type": "code",
   "execution_count": 6,
   "id": "3d22e32f-5abd-4fd8-9a33-57a0394dcd6c",
   "metadata": {
    "tags": []
   },
   "outputs": [
    {
     "data": {
      "text/html": [
       "<div>\n",
       "<style scoped>\n",
       "    .dataframe tbody tr th:only-of-type {\n",
       "        vertical-align: middle;\n",
       "    }\n",
       "\n",
       "    .dataframe tbody tr th {\n",
       "        vertical-align: top;\n",
       "    }\n",
       "\n",
       "    .dataframe thead th {\n",
       "        text-align: right;\n",
       "    }\n",
       "</style>\n",
       "<table border=\"1\" class=\"dataframe\">\n",
       "  <thead>\n",
       "    <tr style=\"text-align: right;\">\n",
       "      <th></th>\n",
       "      <th>Year</th>\n",
       "      <th>Month</th>\n",
       "      <th>Day</th>\n",
       "      <th>Extent</th>\n",
       "      <th>Missing</th>\n",
       "      <th>hemisphere</th>\n",
       "      <th>MonthNum</th>\n",
       "    </tr>\n",
       "  </thead>\n",
       "  <tbody>\n",
       "    <tr>\n",
       "      <th>0</th>\n",
       "      <td>1978</td>\n",
       "      <td>10</td>\n",
       "      <td>26</td>\n",
       "      <td>10.231</td>\n",
       "      <td>0.0</td>\n",
       "      <td>north</td>\n",
       "      <td>10</td>\n",
       "    </tr>\n",
       "    <tr>\n",
       "      <th>1</th>\n",
       "      <td>1978</td>\n",
       "      <td>10</td>\n",
       "      <td>28</td>\n",
       "      <td>10.420</td>\n",
       "      <td>0.0</td>\n",
       "      <td>north</td>\n",
       "      <td>10</td>\n",
       "    </tr>\n",
       "    <tr>\n",
       "      <th>2</th>\n",
       "      <td>1978</td>\n",
       "      <td>10</td>\n",
       "      <td>30</td>\n",
       "      <td>10.557</td>\n",
       "      <td>0.0</td>\n",
       "      <td>north</td>\n",
       "      <td>10</td>\n",
       "    </tr>\n",
       "    <tr>\n",
       "      <th>3</th>\n",
       "      <td>1978</td>\n",
       "      <td>11</td>\n",
       "      <td>1</td>\n",
       "      <td>10.670</td>\n",
       "      <td>0.0</td>\n",
       "      <td>north</td>\n",
       "      <td>11</td>\n",
       "    </tr>\n",
       "    <tr>\n",
       "      <th>4</th>\n",
       "      <td>1978</td>\n",
       "      <td>11</td>\n",
       "      <td>3</td>\n",
       "      <td>10.777</td>\n",
       "      <td>0.0</td>\n",
       "      <td>north</td>\n",
       "      <td>11</td>\n",
       "    </tr>\n",
       "    <tr>\n",
       "      <th>...</th>\n",
       "      <td>...</td>\n",
       "      <td>...</td>\n",
       "      <td>...</td>\n",
       "      <td>...</td>\n",
       "      <td>...</td>\n",
       "      <td>...</td>\n",
       "      <td>...</td>\n",
       "    </tr>\n",
       "    <tr>\n",
       "      <th>26349</th>\n",
       "      <td>2019</td>\n",
       "      <td>5</td>\n",
       "      <td>27</td>\n",
       "      <td>10.085</td>\n",
       "      <td>0.0</td>\n",
       "      <td>south</td>\n",
       "      <td>497</td>\n",
       "    </tr>\n",
       "    <tr>\n",
       "      <th>26350</th>\n",
       "      <td>2019</td>\n",
       "      <td>5</td>\n",
       "      <td>28</td>\n",
       "      <td>10.078</td>\n",
       "      <td>0.0</td>\n",
       "      <td>south</td>\n",
       "      <td>497</td>\n",
       "    </tr>\n",
       "    <tr>\n",
       "      <th>26351</th>\n",
       "      <td>2019</td>\n",
       "      <td>5</td>\n",
       "      <td>29</td>\n",
       "      <td>10.219</td>\n",
       "      <td>0.0</td>\n",
       "      <td>south</td>\n",
       "      <td>497</td>\n",
       "    </tr>\n",
       "    <tr>\n",
       "      <th>26352</th>\n",
       "      <td>2019</td>\n",
       "      <td>5</td>\n",
       "      <td>30</td>\n",
       "      <td>10.363</td>\n",
       "      <td>0.0</td>\n",
       "      <td>south</td>\n",
       "      <td>497</td>\n",
       "    </tr>\n",
       "    <tr>\n",
       "      <th>26353</th>\n",
       "      <td>2019</td>\n",
       "      <td>5</td>\n",
       "      <td>31</td>\n",
       "      <td>10.436</td>\n",
       "      <td>0.0</td>\n",
       "      <td>south</td>\n",
       "      <td>497</td>\n",
       "    </tr>\n",
       "  </tbody>\n",
       "</table>\n",
       "<p>26354 rows × 7 columns</p>\n",
       "</div>"
      ],
      "text/plain": [
       "       Year  Month  Day  Extent  Missing hemisphere  MonthNum\n",
       "0      1978     10   26  10.231      0.0      north        10\n",
       "1      1978     10   28  10.420      0.0      north        10\n",
       "2      1978     10   30  10.557      0.0      north        10\n",
       "3      1978     11    1  10.670      0.0      north        11\n",
       "4      1978     11    3  10.777      0.0      north        11\n",
       "...     ...    ...  ...     ...      ...        ...       ...\n",
       "26349  2019      5   27  10.085      0.0      south       497\n",
       "26350  2019      5   28  10.078      0.0      south       497\n",
       "26351  2019      5   29  10.219      0.0      south       497\n",
       "26352  2019      5   30  10.363      0.0      south       497\n",
       "26353  2019      5   31  10.436      0.0      south       497\n",
       "\n",
       "[26354 rows x 7 columns]"
      ]
     },
     "execution_count": 6,
     "metadata": {},
     "output_type": "execute_result"
    }
   ],
   "source": [
    "sea_ice_data"
   ]
  },
  {
   "cell_type": "markdown",
   "id": "5aea4b3c-0f32-45f2-bf29-32d95e41fc99",
   "metadata": {},
   "source": [
    "We're more interested in the aggregate data by month,so form a class to collect all the observations from a month in a hemishere, then generate a row with the year, month, monthnumber, hemisphere, min, max, and average sea ice extent"
   ]
  },
  {
   "cell_type": "code",
   "execution_count": 23,
   "id": "49b0c981-8ed8-4d7a-bca4-0a2411a858de",
   "metadata": {
    "tags": []
   },
   "outputs": [],
   "source": [
    "class MonthAggregator:\n",
    "    def __init__(self, dataframe, monthnum,  hemisphere):\n",
    "        df = dataframe[(dataframe['MonthNum'] == monthnum) & (dataframe['hemisphere'] == hemisphere)]\n",
    "        self.df = df\n",
    "        self.series = df['Extent']\n",
    "        if len(self.series) > 0:\n",
    "            self.year = df['Year'].tolist()[0]\n",
    "            self.month = df['Month'].tolist()[0]\n",
    "        self.monthnum = monthnum\n",
    "        self.hemisphere = hemisphere\n",
    "                       \n",
    "    def _average_(self):\n",
    "        return mean(self.series)\n",
    "    \n",
    "    def _max_(self):\n",
    "        return max(self.series)\n",
    "    \n",
    "    def _min_(self):\n",
    "        return min(self.series)\n",
    "    \n",
    "    def row(self):\n",
    "        return [self.year, self.month, self.monthnum, self.hemisphere, self._min_(), self._max_(), self._average_()]"
   ]
  },
  {
   "cell_type": "markdown",
   "id": "59df7eab-e725-48e8-9c02-a74ce5ccd3dc",
   "metadata": {},
   "source": [
    "Find the aggregate data for each individual pair (month, hemisphere) and extract the data rows"
   ]
  },
  {
   "cell_type": "code",
   "execution_count": 24,
   "id": "627e172e-6ca4-4473-a198-dbbff039a72d",
   "metadata": {
    "tags": []
   },
   "outputs": [],
   "source": [
    "\n",
    "month_list = sea_ice_data['MonthNum'].tolist()\n",
    "hemisphere = sea_ice_data['hemisphere'].tolist()\n",
    "unique_keys = set([(month_list[i], hemisphere[i]) for i in range(len(month_list))])\n",
    "month_dict = {}\n",
    "for key in unique_keys:\n",
    "    month_dict[key] = MonthAggregator(sea_ice_data, key[0], key[1])\n",
    "rows = [aggregator.row() for aggregator in month_dict.values()]"
   ]
  },
  {
   "cell_type": "markdown",
   "id": "5408aa4f-f949-4c5a-a25f-308747a3d4d0",
   "metadata": {},
   "source": [
    "Form the aggregate dataframe from the rows just found, and then sort the rows in increasing order by month number"
   ]
  },
  {
   "cell_type": "code",
   "execution_count": 33,
   "id": "9daac5b3-c553-406f-959a-8e128a0ba4b1",
   "metadata": {
    "tags": []
   },
   "outputs": [
    {
     "data": {
      "text/html": [
       "<div>\n",
       "<style scoped>\n",
       "    .dataframe tbody tr th:only-of-type {\n",
       "        vertical-align: middle;\n",
       "    }\n",
       "\n",
       "    .dataframe tbody tr th {\n",
       "        vertical-align: top;\n",
       "    }\n",
       "\n",
       "    .dataframe thead th {\n",
       "        text-align: right;\n",
       "    }\n",
       "</style>\n",
       "<table border=\"1\" class=\"dataframe\">\n",
       "  <thead>\n",
       "    <tr style=\"text-align: right;\">\n",
       "      <th></th>\n",
       "      <th>Year</th>\n",
       "      <th>Month</th>\n",
       "      <th>MonthNum</th>\n",
       "      <th>hemisphere</th>\n",
       "      <th>Min</th>\n",
       "      <th>Max</th>\n",
       "      <th>Average</th>\n",
       "    </tr>\n",
       "  </thead>\n",
       "  <tbody>\n",
       "    <tr>\n",
       "      <th>881</th>\n",
       "      <td>1978</td>\n",
       "      <td>10</td>\n",
       "      <td>10</td>\n",
       "      <td>north</td>\n",
       "      <td>10.231</td>\n",
       "      <td>10.557</td>\n",
       "      <td>10.402667</td>\n",
       "    </tr>\n",
       "    <tr>\n",
       "      <th>441</th>\n",
       "      <td>1978</td>\n",
       "      <td>10</td>\n",
       "      <td>10</td>\n",
       "      <td>south</td>\n",
       "      <td>17.624</td>\n",
       "      <td>17.803</td>\n",
       "      <td>17.699000</td>\n",
       "    </tr>\n",
       "    <tr>\n",
       "      <th>555</th>\n",
       "      <td>1978</td>\n",
       "      <td>11</td>\n",
       "      <td>11</td>\n",
       "      <td>north</td>\n",
       "      <td>10.670</td>\n",
       "      <td>12.684</td>\n",
       "      <td>11.645133</td>\n",
       "    </tr>\n",
       "    <tr>\n",
       "      <th>774</th>\n",
       "      <td>1978</td>\n",
       "      <td>11</td>\n",
       "      <td>11</td>\n",
       "      <td>south</td>\n",
       "      <td>13.619</td>\n",
       "      <td>17.527</td>\n",
       "      <td>15.896400</td>\n",
       "    </tr>\n",
       "    <tr>\n",
       "      <th>952</th>\n",
       "      <td>1978</td>\n",
       "      <td>12</td>\n",
       "      <td>12</td>\n",
       "      <td>north</td>\n",
       "      <td>12.660</td>\n",
       "      <td>14.585</td>\n",
       "      <td>13.667063</td>\n",
       "    </tr>\n",
       "    <tr>\n",
       "      <th>...</th>\n",
       "      <td>...</td>\n",
       "      <td>...</td>\n",
       "      <td>...</td>\n",
       "      <td>...</td>\n",
       "      <td>...</td>\n",
       "      <td>...</td>\n",
       "      <td>...</td>\n",
       "    </tr>\n",
       "    <tr>\n",
       "      <th>482</th>\n",
       "      <td>2019</td>\n",
       "      <td>3</td>\n",
       "      <td>495</td>\n",
       "      <td>south</td>\n",
       "      <td>2.474</td>\n",
       "      <td>4.163</td>\n",
       "      <td>3.164161</td>\n",
       "    </tr>\n",
       "    <tr>\n",
       "      <th>347</th>\n",
       "      <td>2019</td>\n",
       "      <td>4</td>\n",
       "      <td>496</td>\n",
       "      <td>north</td>\n",
       "      <td>13.009</td>\n",
       "      <td>14.038</td>\n",
       "      <td>13.454600</td>\n",
       "    </tr>\n",
       "    <tr>\n",
       "      <th>880</th>\n",
       "      <td>2019</td>\n",
       "      <td>4</td>\n",
       "      <td>496</td>\n",
       "      <td>south</td>\n",
       "      <td>4.240</td>\n",
       "      <td>6.992</td>\n",
       "      <td>5.708633</td>\n",
       "    </tr>\n",
       "    <tr>\n",
       "      <th>685</th>\n",
       "      <td>2019</td>\n",
       "      <td>5</td>\n",
       "      <td>497</td>\n",
       "      <td>north</td>\n",
       "      <td>11.486</td>\n",
       "      <td>12.820</td>\n",
       "      <td>12.163161</td>\n",
       "    </tr>\n",
       "    <tr>\n",
       "      <th>242</th>\n",
       "      <td>2019</td>\n",
       "      <td>5</td>\n",
       "      <td>497</td>\n",
       "      <td>south</td>\n",
       "      <td>7.119</td>\n",
       "      <td>10.436</td>\n",
       "      <td>8.835516</td>\n",
       "    </tr>\n",
       "  </tbody>\n",
       "</table>\n",
       "<p>976 rows × 7 columns</p>\n",
       "</div>"
      ],
      "text/plain": [
       "     Year  Month  MonthNum hemisphere     Min     Max    Average\n",
       "881  1978     10        10      north  10.231  10.557  10.402667\n",
       "441  1978     10        10      south  17.624  17.803  17.699000\n",
       "555  1978     11        11      north  10.670  12.684  11.645133\n",
       "774  1978     11        11      south  13.619  17.527  15.896400\n",
       "952  1978     12        12      north  12.660  14.585  13.667063\n",
       "..    ...    ...       ...        ...     ...     ...        ...\n",
       "482  2019      3       495      south   2.474   4.163   3.164161\n",
       "347  2019      4       496      north  13.009  14.038  13.454600\n",
       "880  2019      4       496      south   4.240   6.992   5.708633\n",
       "685  2019      5       497      north  11.486  12.820  12.163161\n",
       "242  2019      5       497      south   7.119  10.436   8.835516\n",
       "\n",
       "[976 rows x 7 columns]"
      ]
     },
     "execution_count": 33,
     "metadata": {},
     "output_type": "execute_result"
    }
   ],
   "source": [
    "aggregate = pd.DataFrame(data=rows, columns=['Year', 'Month', 'MonthNum', 'hemisphere', 'Min', 'Max', 'Average'])\n",
    "aggregate.sort_values(['MonthNum', 'hemisphere'], inplace=True)\n",
    "aggregate"
   ]
  },
  {
   "cell_type": "code",
   "execution_count": null,
   "id": "49afb48b-b46c-4835-bb40-88ee66cd387b",
   "metadata": {},
   "outputs": [],
   "source": [
    "Check to make sure the types are right: it should be (int64, int64, int64, object, float64, float64, float64)"
   ]
  },
  {
   "cell_type": "code",
   "execution_count": 28,
   "id": "8101ded2-244c-41ad-966e-ac7ff4c1995d",
   "metadata": {},
   "outputs": [
    {
     "data": {
      "text/plain": [
       "Year            int64\n",
       "Month           int64\n",
       "MonthNum        int64\n",
       "hemisphere     object\n",
       "Min           float64\n",
       "Max           float64\n",
       "Average       float64\n",
       "dtype: object"
      ]
     },
     "execution_count": 28,
     "metadata": {},
     "output_type": "execute_result"
    }
   ],
   "source": [
    "aggregate.dtypes"
   ]
  },
  {
   "cell_type": "markdown",
   "id": "1aaa1532-f4aa-49ec-b1f7-b9fb3384f011",
   "metadata": {},
   "source": [
    "Import the Galyleo libraries and use a convenience routine that takes a dataframe, converts it to a table, and sends the table to the dashboard"
   ]
  },
  {
   "cell_type": "code",
   "execution_count": 29,
   "id": "b8245cea-84aa-44c4-8028-1d7a40c6e991",
   "metadata": {
    "tags": []
   },
   "outputs": [],
   "source": [
    "from galyleo.galyleo_table import GalyleoTable\n",
    "from galyleo.galyleo_constants import GALYLEO_STRING, GALYLEO_NUMBER\n",
    "from galyleo.galyleo_jupyterlab_client import GalyleoClient"
   ]
  },
  {
   "cell_type": "code",
   "execution_count": 30,
   "id": "15a9322d-db0f-4892-83eb-ada5b1fca8ea",
   "metadata": {
    "tags": []
   },
   "outputs": [],
   "source": [
    "def send_dataframe_to_dashboard(dataframe, table_name, client):\n",
    "    table = GalyleoTable(table_name)\n",
    "    table.load_from_dataframe(dataframe)\n",
    "    client.send_data_to_dashboard(table)"
   ]
  },
  {
   "cell_type": "code",
   "execution_count": null,
   "id": "b68f4176-377b-4ac3-b7e7-0cebad903d17",
   "metadata": {},
   "outputs": [],
   "source": [
    "Create a client and send the observations and aggregate dateframes to the dashboard"
   ]
  },
  {
   "cell_type": "code",
   "execution_count": 34,
   "id": "bc634932-4fed-43cf-a350-0ec7a0f14f81",
   "metadata": {
    "tags": []
   },
   "outputs": [],
   "source": [
    "client = GalyleoClient()\n",
    "send_dataframe_to_dashboard(sea_ice_data, 'observations', client)\n",
    "send_dataframe_to_dashboard(aggregate, 'month_data', client)"
   ]
  },
  {
   "cell_type": "code",
   "execution_count": null,
   "id": "93326b3c-0d63-4bd9-8d50-e1866f18cc5e",
   "metadata": {},
   "outputs": [],
   "source": []
  }
 ],
 "metadata": {
  "kernelspec": {
   "display_name": "Python 3 (ipykernel)",
   "language": "python",
   "name": "python3"
  },
  "language_info": {
   "codemirror_mode": {
    "name": "ipython",
    "version": 3
   },
   "file_extension": ".py",
   "mimetype": "text/x-python",
   "name": "python",
   "nbconvert_exporter": "python",
   "pygments_lexer": "ipython3",
   "version": "3.10.9"
  }
 },
 "nbformat": 4,
 "nbformat_minor": 5
}
