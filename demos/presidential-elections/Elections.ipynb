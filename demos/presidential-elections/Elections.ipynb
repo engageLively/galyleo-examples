{
 "cells": [
  {
   "cell_type": "markdown",
   "id": "removable-absolute",
   "metadata": {},
   "source": [
    "# Presidential Election Notebook\n",
    "This notebook takes the raw Presidential Elections spreadsheet in elections.csv and the electoral college sheet in electoral_college.csv and converts them into a number of tables suitable for the presidential elections dashboard.  This involves:\n",
    "1. Splitting the combined field \\<candidateName> - \\<party> into two fields, candidate and party\n",
    "2. Converting years to integers and putting in the missing years (converting '2016', '', '' to 2016, 2016, 2016\n",
    "3. Collecting the cells of a particular state and year into a structure, with the individual candidates as a list\n",
    "4. Converting the votes into integers, and then, for each result, adding a percentage float\n",
    "5. generating the individual records (state, year, candidate, party, votes, percentage) as a list\n",
    "6. Creating the data table as a Galyleo Table and sending it to the dashboard.  This will form the basis of the Candidate Votes by State and Year and Party Percent by State and Year Charts\n",
    "7. Selecting the rows of this table for Nationwide results.  This will be the basis of the pie chart for national share of the vote.  Send this to the dashboard.\n",
    "8. Forming a pivot table of percentage of the vote for each party, by state and year.  This will form the basis of the Vote history line chart.  Send this to the dashboard\n",
    "9. Converting the pivot table to a margin table, which will form the basis of the colored map.  Send this to the dashboard.\n",
    "10. Finally, reading in the electoral college results from the CSV file and turning this into a set of records (Year, EV-Democrat, EV-Republican, EV-Other).  Send this to the dashboard.\n",
    "All in, we compute five tables to send to the dashboard.  These will be filtered using widgets on the dashboard to form six graphs, which respond to the filters to show results for a specific state and year.\n",
    "\n",
    "\n",
    "\n",
    "\n"
   ]
  },
  {
   "cell_type": "markdown",
   "id": "printable-natural",
   "metadata": {},
   "source": [
    "Step 0: read in the table from the CSV file.  After this, the data will be in the variable rows."
   ]
  },
  {
   "cell_type": "code",
   "execution_count": 1,
   "id": "essential-playback",
   "metadata": {},
   "outputs": [],
   "source": [
    "import csv\n",
    "f = open('elections.csv', 'r')\n",
    "election_reader = csv.reader(f)\n",
    "rows = [row for row in election_reader]\n",
    "f.close()"
   ]
  },
  {
   "cell_type": "markdown",
   "id": "completed-estate",
   "metadata": {},
   "source": [
    "In the raw data, the candidate field is <name> - <party>.  Parse into pairs a dictionary {\"name\": <name>, \"total\": <total>}.  If the string is \"Total\", then the party and candidate are both \"Total\".  If there is no dash, there is no name and party is \"Other\"."
   ]
  },
  {
   "cell_type": "code",
   "execution_count": 2,
   "id": "portable-hungary",
   "metadata": {},
   "outputs": [],
   "source": [
    "def clean_candidate(raw):\n",
    "    if (raw == 'Total'): return {\"Name\": \"Total\", \"Party\": \"Total\"}\n",
    "    else: \n",
    "        parsed = raw.split(' - ')\n",
    "        return {\"Name\": parsed[0], \"Party\": parsed[1]} if len(parsed) == 2 else {\"Name\": \"\", \"Party\": \"Other\"}\n",
    "candidates = [clean_candidate(entry) for entry in rows[1][1:]]"
   ]
  },
  {
   "cell_type": "markdown",
   "id": "defined-majority",
   "metadata": {},
   "source": [
    "Parties have gone by various aliases throughout the years; moreover, our dataset goes back to 1828, but the Republican party wasn't formed until 1854 from the Whig Party, which was itself a descendant of the Federalists.  As a result, we consolidate parties using this function, and then make sure that every candidate's party is canonized.  "
   ]
  },
  {
   "cell_type": "code",
   "execution_count": 3,
   "id": "featured-subscriber",
   "metadata": {},
   "outputs": [],
   "source": [
    "def canonical_name(party):\n",
    "    party_aliases = {'National Republican': \"Republican\", 'National Union (Republican)': \"Republican\", 'Whig': \"Republican\",\n",
    "                     'Liberal Republican/Democratic': \"Democratic\", '(Northern) Democratic': \"Democratic\", \n",
    "                    'Progressive \"Bull Moose\"': 'Progressive'}\n",
    "    return party_aliases[party] if party in party_aliases else party\n",
    "    \n",
    "for candidate in candidates: candidate[\"Party\"] = canonical_name(candidate[\"Party\"])"
   ]
  },
  {
   "cell_type": "markdown",
   "id": "opposite-journey",
   "metadata": {},
   "source": [
    "The years are blank except for the first column in every group, leading to the following messy bit of code to assign a year to every record"
   ]
  },
  {
   "cell_type": "code",
   "execution_count": 4,
   "id": "respected-example",
   "metadata": {},
   "outputs": [],
   "source": [
    "class YearCanonizer:\n",
    "    def __init__(self, years):\n",
    "        self.years = [self.canonize_year(year)for year in years]\n",
    "    def canonize_year(self, year):\n",
    "        if (year != \"\"): self.prev_year = int(year)\n",
    "        return self.prev_year\n",
    "canonizer = YearCanonizer(rows[0][1:])\n",
    "for i in range(len(candidates)): candidates[i][\"Year\"] = canonizer.years[i]"
   ]
  },
  {
   "cell_type": "markdown",
   "id": "dried-tragedy",
   "metadata": {},
   "source": [
    "Code which, from the row for a state, and the records {\"Name\", \"Party\", \"Year\"} computes {{\"Name\", \"Party\", \"Year\", \"State\", \"Votes\"}, using the fact that the votes are in the same order as the candidates"
   ]
  },
  {
   "cell_type": "code",
   "execution_count": 5,
   "id": "metric-victor",
   "metadata": {},
   "outputs": [],
   "source": [
    "# First, convert a string which may be blank or contain commas to a number\n",
    "def compute_int_from_delimited_string(string):\n",
    "    string = string.strip()\n",
    "    string = string.replace(',', '')\n",
    "    return int(string) if len(string) > 0 else 0\n",
    "\n",
    "def compute_state_record(state_row):\n",
    "    state_name = state_row[0]\n",
    "    votes = state_row[1:]\n",
    "    result = [candidate.copy() for candidate in candidates]\n",
    "    for candidate in result: candidate[\"State\"] = state_name\n",
    "    for i in range(len(result)): result[i][\"Votes\"] = compute_int_from_delimited_string(votes[i])\n",
    "    return result\n",
    "state_records = [compute_state_record(row) for row in rows[2:]]\n",
    "state_list = []\n",
    "for record in state_records: state_list.extend(record)"
   ]
  },
  {
   "cell_type": "markdown",
   "id": "still-inspiration",
   "metadata": {},
   "source": [
    "Trim the records with 0 votes and then get the totals for each state and year"
   ]
  },
  {
   "cell_type": "code",
   "execution_count": 6,
   "id": "assisted-sharp",
   "metadata": {},
   "outputs": [],
   "source": [
    "state_list = [record for record in state_list if record[\"Votes\"] > 0]\n",
    "total_records = [record for record in state_list if record[\"Name\"]  == \"Total\"]\n",
    "party_records = [record for record in state_list if record[\"Name\"]  != \"Total\"]\n",
    "totals = {}\n",
    "for record in total_records: totals[(record[\"State\"], record[\"Year\"])] = record[\"Votes\"]"
   ]
  },
  {
   "cell_type": "markdown",
   "id": "leading-child",
   "metadata": {},
   "source": [
    "Compute the percentages"
   ]
  },
  {
   "cell_type": "code",
   "execution_count": 7,
   "id": "appointed-criminal",
   "metadata": {},
   "outputs": [],
   "source": [
    "for record in party_records: record[\"Percentage\"] = 100* record[\"Votes\"]/totals[(record[\"State\"], record[\"Year\"])]"
   ]
  },
  {
   "cell_type": "markdown",
   "id": "subtle-biodiversity",
   "metadata": {},
   "source": [
    "Create first table to the dashboard"
   ]
  },
  {
   "cell_type": "code",
   "execution_count": 8,
   "id": "designing-reservoir",
   "metadata": {},
   "outputs": [],
   "source": [
    "from galyleo.galyleo_table import GalyleoTable\n",
    "from galyleo.galyleo_constants import GALYLEO_STRING, GALYLEO_NUMBER\n",
    "table = GalyleoTable(\"presidential_vote\")\n",
    "schema = [(\"Year\", GALYLEO_NUMBER), (\"State\", GALYLEO_STRING), (\"Name\", GALYLEO_STRING), (\"Party\", GALYLEO_STRING), (\"Votes\", GALYLEO_NUMBER), (\"Percentage\", GALYLEO_NUMBER)]\n",
    "data = [[record[\"Year\"], record[\"State\"], record[\"Name\"], record[\"Party\"], record[\"Votes\"], record[\"Percentage\"]] for record in party_records]\n",
    "table.load_from_schema_and_data(schema, data)"
   ]
  },
  {
   "cell_type": "markdown",
   "id": "reduced-vienna",
   "metadata": {},
   "source": [
    "Send the first table to the dashboard"
   ]
  },
  {
   "cell_type": "code",
   "execution_count": 9,
   "id": "automatic-sequence",
   "metadata": {},
   "outputs": [],
   "source": [
    "from galyleo.galyleo_jupyterlab_client import GalyleoClient\n",
    "client = GalyleoClient()\n",
    "client.send_data_to_dashboard(table)"
   ]
  },
  {
   "cell_type": "markdown",
   "id": "hispanic-husband",
   "metadata": {},
   "source": [
    "A filtered table, nationwide vote only -- this will drive a pie chart with the national percentage of the vote."
   ]
  },
  {
   "cell_type": "code",
   "execution_count": 35,
   "id": "favorite-queens",
   "metadata": {},
   "outputs": [],
   "source": [
    "nationwide_records = [[record[0], record[3], record[5]] for record in data if record[1] == \"Nationwide\"]\n",
    "nationwide_schema = [(\"Year\", GALYLEO_NUMBER), (\"Party\", GALYLEO_STRING), (\"Percentage\", GALYLEO_NUMBER)]\n",
    "table = GalyleoTable(\"nationwide_vote\")\n",
    "table.load_from_schema_and_data(nationwide_schema, nationwide_records)\n",
    "client.send_data_to_dashboard(table)"
   ]
  },
  {
   "cell_type": "markdown",
   "id": "composite-affair",
   "metadata": {},
   "source": [
    "Time to form the pivot and margin tables, which we will use for the map and the history graph.  One note is that there have been a _lot_ of parties in American history; the Cook database shows 26, and even after we have removed 7 as aliases, above, this leaves 19.  This makes for a busy history chart.  So what we will do here is choose a party list, and everything else becomes \"Other\".  The party list is a matter of taste; it will of course include Republican and Democrat, but the remainder are personal preference.  I'm using \"Progressive\", \"Socialist\", and \"Reform\", since they showed well in 2 or more elections and/or captured 20% of the national vote in one"
   ]
  },
  {
   "cell_type": "code",
   "execution_count": 36,
   "id": "smoking-circumstances",
   "metadata": {},
   "outputs": [],
   "source": [
    "parties = ['Democratic', 'Republican', 'Progressive', 'Socialist', 'Reform']\n"
   ]
  },
  {
   "cell_type": "markdown",
   "id": "laughing-receptor",
   "metadata": {},
   "source": [
    "Pivot on percentage to break out by party.  The idea here is to create records of the form {State, Year, P1,...,Pn} where each Pi is the name of a party and the value is the percentage of the vote"
   ]
  },
  {
   "cell_type": "code",
   "execution_count": 37,
   "id": "rolled-appointment",
   "metadata": {},
   "outputs": [],
   "source": [
    "# A function which creates an empty pivot record for state and year\n",
    "def pivot_record(state, year):\n",
    "    result = {\"State\": state, \"Year\": year}\n",
    "    for party in parties: result[party] = 0 \n",
    "    result[\"Other\"] = 0\n",
    "    return result\n",
    "# Compute the pivot table.  For each record in stripped_list, add the vote to the entry for state and year.  If\n",
    "# none exists, create the record first\n",
    "pivot_table = {}\n",
    "party_set = set(parties)\n",
    "for record in party_records:\n",
    "    if not ((record[\"State\"], record[\"Year\"]) in pivot_table):\n",
    "        pivot_table[(record[\"State\"], record[\"Year\"])] = pivot_record(record[\"State\"], record[\"Year\"])\n",
    "    if record[\"Party\"] in party_set:\n",
    "        pivot_table[(record[\"State\"], record[\"Year\"])][record[\"Party\"]] = record[\"Percentage\"]\n",
    "    else:\n",
    "        pivot_table[(record[\"State\"], record[\"Year\"])][\"Other\"] = max(record[\"Percentage\"], pivot_table[(record[\"State\"], record[\"Year\"])][\"Other\"])"
   ]
  },
  {
   "cell_type": "markdown",
   "id": "italic-circular",
   "metadata": {},
   "source": [
    "The pivot table is now complete.  Just prepare the table and send it to the dashboard.  Add \"Other\" to the list of parties, then form the Schema (\"State\" is a string, everything else is a number), create the table, load it with the data, and send to a dashboard."
   ]
  },
  {
   "cell_type": "code",
   "execution_count": 38,
   "id": "variable-budget",
   "metadata": {},
   "outputs": [],
   "source": [
    "parties.append(\"Other\")\n",
    "pivot_schema = [(\"State\", GALYLEO_STRING), (\"Year\", GALYLEO_NUMBER)] + [(party, GALYLEO_NUMBER) for party in parties]\n",
    "pivot_data = [[record[\"State\"], record[\"Year\"]] + [record[party] for party in parties] for record in pivot_table.values()]\n",
    "galyleo_pivot_table = GalyleoTable(\"presidential_vote_history\")\n",
    "galyleo_pivot_table.load_from_schema_and_data(pivot_schema, pivot_data)\n",
    "client.send_data_to_dashboard(galyleo_pivot_table)\n"
   ]
  },
  {
   "cell_type": "markdown",
   "id": "unusual-semester",
   "metadata": {},
   "source": [
    "Prepare the margin table.  This is going to drive a red/blue/green map, where a Democratic victory is going to be on the scale 5-10, Republican on the scale -5 to -10, and \"Other\" will be 0.  We only need three parties for this one, Democratic, Republican, and Other, so we consolidate the margin table down to a list of length 3 "
   ]
  },
  {
   "cell_type": "code",
   "execution_count": 40,
   "id": "supported-oregon",
   "metadata": {},
   "outputs": [],
   "source": [
    "from functools import reduce\n",
    "def consolidate(pivot_record):\n",
    "    other = pivot_record[parties[2]]\n",
    "    for party in parties[3:]: other = max(other, pivot_record[party])\n",
    "    result = {\"Other\": other}\n",
    "    for field in [\"State\", \"Year\", \"Democratic\", \"Republican\"]: result[field] = pivot_record[field]\n",
    "    return result\n",
    "margin_party_records = [consolidate(pivot_record) for pivot_record in pivot_table.values()]"
   ]
  },
  {
   "cell_type": "markdown",
   "id": "robust-cleaners",
   "metadata": {},
   "source": [
    "Now we have the margin records, and we want to convert them into 5-10 (state lightly to heavily Democratic) (-10 - -5) (state heavily to lightly Republican), and 0 (other). We'll just use a linear scale, capped at 10, so 0-2% is light, 2-4% is next, and 10% or above is heavy.  This is adjustable."
   ]
  },
  {
   "cell_type": "code",
   "execution_count": 41,
   "id": "sorted-casino",
   "metadata": {},
   "outputs": [],
   "source": [
    "def compute_margin(margin_party_record):\n",
    "    if (margin_party_record[\"Other\"] > max(margin_party_record[\"Republican\"], margin_party_record[\"Democratic\"])): return 0\n",
    "    raw_margin = round((margin_party_record[\"Democratic\"] - margin_party_record[\"Republican\"])/2)\n",
    "    if (raw_margin < 0):\n",
    "        return max(raw_margin, -5) - 5\n",
    "    else:\n",
    "        return min(raw_margin, 5) + 5\n",
    "margins = [[record[\"State\"], record[\"Year\"], compute_margin(record)] for record in margin_party_records]"
   ]
  },
  {
   "cell_type": "code",
   "execution_count": 42,
   "id": "considered-initial",
   "metadata": {},
   "outputs": [],
   "source": [
    "margin_table = GalyleoTable('presidential_margins')\n",
    "margin_table.load_from_schema_and_data([('State', GALYLEO_STRING), ('Year', GALYLEO_NUMBER), ('Margin', GALYLEO_NUMBER)], margins)\n",
    "client.send_data_to_dashboard(margin_table)"
   ]
  },
  {
   "cell_type": "markdown",
   "id": "nuclear-burst",
   "metadata": {},
   "source": [
    "Finally, get the electoral college.  This is very simple.  Just create one record per year, with three fields: Republican, Democratic, Other"
   ]
  },
  {
   "cell_type": "code",
   "execution_count": 43,
   "id": "elegant-oxide",
   "metadata": {},
   "outputs": [],
   "source": [
    "ec_aliases = {'Republican': {'National Republican', 'Whig', 'Republican'}, 'Democratic': {'Democratic/Liberal Republican', 'Independent-Democratic', 'Democratic', 'Democrat'}}\n",
    "f = open('electoral_college.csv', 'r')\n",
    "ec_reader = csv.reader(f)\n",
    "rows = [row for row in ec_reader]\n",
    "f.close()\n",
    "class EC_Record:\n",
    "    def __init__(self, year):\n",
    "        self.year = int(year)\n",
    "        self.republican = 0\n",
    "        self.democratic = 0\n",
    "        self.other = 0\n",
    "    \n",
    "    def add_record(self, record):\n",
    "        value = int(record[3])\n",
    "        if (record[2] in ec_aliases['Republican']): self.republican = self.republican + value\n",
    "        elif (record[2] in ec_aliases['Democratic']): self.democratic = self.democratic + value\n",
    "        else: self.other = self.other + value\n",
    "    \n",
    "    def as_list(self):\n",
    "        return [self.year, self.democratic, self.republican, self.other]\n",
    "    \n",
    "    def __repr__(self):\n",
    "        l1 = self.as_list()\n",
    "        return ', '.join([str(elt) for elt in l1])\n",
    "    \n",
    "ec_records = {}\n",
    "for row in rows[1:]:\n",
    "    year = row[0]\n",
    "    if year not in ec_records: ec_records[year] = EC_Record(year)\n",
    "    ec_records[year].add_record(row)\n"
   ]
  },
  {
   "cell_type": "markdown",
   "id": "european-japanese",
   "metadata": {},
   "source": [
    "Load the Electoral College records into a table and send it to the dashboard"
   ]
  },
  {
   "cell_type": "code",
   "execution_count": 44,
   "id": "optical-advocacy",
   "metadata": {},
   "outputs": [],
   "source": [
    "schema = [(\"Year\", GALYLEO_NUMBER), (\"Democratic\", GALYLEO_NUMBER), (\"Republican\", GALYLEO_NUMBER), (\"Other\", GALYLEO_NUMBER)]\n",
    "ec_table = GalyleoTable(\"electoral_college\")\n",
    "ec_table.load_from_schema_and_data(schema, [record.as_list() for record in ec_records.values()])\n",
    "client.send_data_to_dashboard(ec_table)"
   ]
  }
 ],
 "metadata": {
  "kernelspec": {
   "display_name": "Python 3",
   "language": "python",
   "name": "python3"
  },
  "language_info": {
   "codemirror_mode": {
    "name": "ipython",
    "version": 3
   },
   "file_extension": ".py",
   "mimetype": "text/x-python",
   "name": "python",
   "nbconvert_exporter": "python",
   "pygments_lexer": "ipython3",
   "version": "3.8.8"
  }
 },
 "nbformat": 4,
 "nbformat_minor": 5
}
