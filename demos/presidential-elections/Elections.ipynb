{
 "cells": [
  {
   "cell_type": "markdown",
   "id": "worldwide-sympathy",
   "metadata": {},
   "source": [
    "# Presidential Election Notebook\n",
    "This notebook takes the raw Presidential Elections spreadsheet in elections.csv and the electoral college sheet in electoral_college.csv and converts them into a number of tables suitable for the presidential elections dashboard.  This involves:\n",
    "1. Splitting the combined field \\<candidateName> - \\<party> into two fields, candidate and party\n",
    "2. Converting years to integers and putting in the missing years (converting '2016', '', '' to 2016, 2016, 2016\n",
    "3. Collecting the cells of a particular state and year into a structure, with the individual candidates as a list\n",
    "4. Converting the votes into integers, and then, for each result, adding a percentage float\n",
    "5. generating the individual records (state, year, candidate, party, votes, percentage) as a list\n",
    "6. Creating the data table as a Galyleo Table and sending it to the dashboard\n",
    "\n",
    "\n",
    "\n"
   ]
  },
  {
   "cell_type": "markdown",
   "id": "correct-composition",
   "metadata": {},
   "source": [
    "Step 0: read in the table from the CSV file.  After this, the data will be in the variable rows."
   ]
  },
  {
   "cell_type": "code",
   "execution_count": 1,
   "id": "green-exemption",
   "metadata": {},
   "outputs": [],
   "source": [
    "import csv\n",
    "f = open('elections.csv', 'r')\n",
    "election_reader = csv.reader(f)\n",
    "rows = [row for row in election_reader]\n",
    "f.close()"
   ]
  },
  {
   "cell_type": "markdown",
   "id": "running-consumption",
   "metadata": {},
   "source": [
    "In the raw data, the candidate field is <name> - <party>.  Parse into pairs a dictionary {\"name\": <name>, \"total\": <total>}.  If the string is \"Total\", then the party and candidate are both \"Total\".  If there is no dash, there is no name and party is \"Other\"."
   ]
  },
  {
   "cell_type": "code",
   "execution_count": 2,
   "id": "broke-annotation",
   "metadata": {},
   "outputs": [],
   "source": [
    "def clean_candidate(raw):\n",
    "    if (raw == 'Total'): return {\"Name\": \"Total\", \"Party\": \"Total\"}\n",
    "    else: \n",
    "        parsed = raw.split(' - ')\n",
    "        return {\"Name\": parsed[0], \"Party\": parsed[1]} if len(parsed) == 2 else {\"Name\": \"\", \"Party\": \"Other\"}\n",
    "candidates = [clean_candidate(entry) for entry in rows[1][1:]]"
   ]
  },
  {
   "cell_type": "markdown",
   "id": "precise-clerk",
   "metadata": {},
   "source": [
    "Parties have gone by various aliases throughout the years; moreover, our dataset goes back to 1828, but the Republican party wasn't formed until 1854 from the Whig Party, which was itself a descendant of the Federalists.  As a result, we consolidate parties using this function, and then make sure that every candidate's party is canonized.  "
   ]
  },
  {
   "cell_type": "code",
   "execution_count": 3,
   "id": "incomplete-kingdom",
   "metadata": {},
   "outputs": [],
   "source": [
    "def canonical_name(party):\n",
    "    party_aliases = {'National Republican': \"Republican\", 'National Union (Republican)': \"Republican\", 'Whig': \"Republican\",\n",
    "                     'Liberal Republican/Democratic': \"Democratic\", '(Northern) Democratic': \"Democratic\", \n",
    "                    'Progressive \"Bull Moose\"': 'Progressive'}\n",
    "    return party_aliases[party] if party in party_aliases else party\n",
    "    \n",
    "for candidate in candidates: candidate[\"Party\"] = canonical_name(candidate[\"Party\"])"
   ]
  },
  {
   "cell_type": "markdown",
   "id": "affecting-thomas",
   "metadata": {},
   "source": [
    "The years are blank except for the first column in every group, leading to the following messy bit of code to assign a year to every record"
   ]
  },
  {
   "cell_type": "code",
   "execution_count": 4,
   "id": "complicated-amino",
   "metadata": {},
   "outputs": [],
   "source": [
    "class YearCanonizer:\n",
    "    def __init__(self, years):\n",
    "        self.years = [self.canonize_year(year)for year in years]\n",
    "    def canonize_year(self, year):\n",
    "        if (year != \"\"): self.prev_year = int(year)\n",
    "        return self.prev_year\n",
    "canonizer = YearCanonizer(rows[0][1:])\n",
    "for i in range(len(candidates)): candidates[i][\"Year\"] = canonizer.years[i]"
   ]
  },
  {
   "cell_type": "markdown",
   "id": "exposed-mistress",
   "metadata": {},
   "source": [
    "Code which, from the row for a state, and the records {\"Name\", \"Party\", \"Year\"} computes {{\"Name\", \"Party\", \"Year\", \"State\", \"Votes\"}, using the fact that the votes are in the same order as the candidates"
   ]
  },
  {
   "cell_type": "code",
   "execution_count": 5,
   "id": "sophisticated-vision",
   "metadata": {},
   "outputs": [],
   "source": [
    "# First, convert a string which may be blank or contain commas to a number\n",
    "def compute_int_from_delimited_string(string):\n",
    "    string = string.strip()\n",
    "    string = string.replace(',', '')\n",
    "    return int(string) if len(string) > 0 else 0\n",
    "\n",
    "def compute_state_record(state_row):\n",
    "    state_name = state_row[0]\n",
    "    votes = state_row[1:]\n",
    "    result = [candidate.copy() for candidate in candidates]\n",
    "    for candidate in result: candidate[\"State\"] = state_name\n",
    "    for i in range(len(result)): result[i][\"Votes\"] = compute_int_from_delimited_string(votes[i])\n",
    "    return result\n",
    "state_records = [compute_state_record(row) for row in rows[2:]]\n",
    "state_list = []\n",
    "for record in state_records: state_list.extend(record)"
   ]
  },
  {
   "cell_type": "markdown",
   "id": "written-cycling",
   "metadata": {},
   "source": [
    "Trim the records with 0 votes and then get the totals for each state and year"
   ]
  },
  {
   "cell_type": "code",
   "execution_count": 6,
   "id": "military-mercy",
   "metadata": {},
   "outputs": [],
   "source": [
    "state_list = [record for record in state_list if record[\"Votes\"] > 0]\n",
    "total_records = [record for record in state_list if record[\"Name\"]  == \"Total\"]\n",
    "party_records = [record for record in state_list if record[\"Name\"]  != \"Total\"]\n",
    "totals = {}\n",
    "for record in total_records: totals[(record[\"State\"], record[\"Year\"])] = record[\"Votes\"]"
   ]
  },
  {
   "cell_type": "markdown",
   "id": "western-seminar",
   "metadata": {},
   "source": [
    "Compute the percentages"
   ]
  },
  {
   "cell_type": "code",
   "execution_count": 7,
   "id": "printable-preparation",
   "metadata": {},
   "outputs": [],
   "source": [
    "for record in party_records: record[\"Percentage\"] = 100* record[\"Votes\"]/totals[(record[\"State\"], record[\"Year\"])]"
   ]
  },
  {
   "cell_type": "markdown",
   "id": "facial-wiring",
   "metadata": {},
   "source": [
    "Create first table to the dashboard"
   ]
  },
  {
   "cell_type": "code",
   "execution_count": 8,
   "id": "complex-leader",
   "metadata": {},
   "outputs": [],
   "source": [
    "from galyleo.galyleo_table import GalyleoTable\n",
    "from galyleo.galyleo_constants import GALYLEO_STRING, GALYLEO_NUMBER\n",
    "table = GalyleoTable(\"presidential_vote\")\n",
    "schema = [(\"Year\", GALYLEO_NUMBER), (\"State\", GALYLEO_STRING), (\"Name\", GALYLEO_STRING), (\"Party\", GALYLEO_STRING), (\"Votes\", GALYLEO_NUMBER), (\"Percentage\", GALYLEO_NUMBER)]\n",
    "data = [[record[\"Year\"], record[\"State\"], record[\"Name\"], record[\"Party\"], record[\"Votes\"], record[\"Percentage\"]] for record in party_records]\n",
    "table.load_from_schema_and_data(schema, data)"
   ]
  },
  {
   "cell_type": "markdown",
   "id": "juvenile-affiliation",
   "metadata": {},
   "source": [
    "Send the first table to the dashboard"
   ]
  },
  {
   "cell_type": "code",
   "execution_count": 11,
   "id": "republican-playback",
   "metadata": {},
   "outputs": [],
   "source": [
    "from galyleo.galyleo_jupyterlab_client import GalyleoClient\n",
    "client = GalyleoClient()\n",
    "client.send_data_to_dashboard(table)"
   ]
  },
  {
   "cell_type": "code",
   "execution_count": 10,
   "id": "responsible-arthritis",
   "metadata": {},
   "outputs": [],
   "source": [
    "client.send_data_to_dashboard(table)"
   ]
  },
  {
   "cell_type": "markdown",
   "id": "pointed-success",
   "metadata": {},
   "source": [
    "Strip out the trivial records, those with < 10% of the vote"
   ]
  },
  {
   "cell_type": "code",
   "execution_count": 21,
   "id": "mature-clear",
   "metadata": {},
   "outputs": [],
   "source": [
    "stripped_list = [record for record in party_records if record[\"Percentage\"] >= 10]"
   ]
  },
  {
   "cell_type": "markdown",
   "id": "distant-refund",
   "metadata": {},
   "source": [
    "Pivot on percentage to break out by party.  The idea here is to create records of the form {State, Year, P1,...,Pn} where each Pi is the name of a party and the value is the percentage of the vote"
   ]
  },
  {
   "cell_type": "code",
   "execution_count": 29,
   "id": "elect-capture",
   "metadata": {},
   "outputs": [],
   "source": [
    "parties = list(set([record[\"Party\"] for record in stripped_list]))\n",
    "# A function which creates an empty pivot record for state and year\n",
    "def pivot_record(state, year):\n",
    "    result = {\"State\": state, \"Year\": year}\n",
    "    for party in parties: result[party] = 0 \n",
    "    return result\n",
    "# Compute the pivot table.  For each record in stripped_list, add the vote to the entry for state and year.  If\n",
    "# none exists, create the record first\n",
    "pivot_table = {}\n",
    "for record in stripped_list:\n",
    "    if not ((record[\"State\"], record[\"Year\"]) in pivot_table):\n",
    "        pivot_table[(record[\"State\"], record[\"Year\"])] = pivot_record(record[\"State\"], record[\"Year\"])\n",
    "    pivot_table[(record[\"State\"], record[\"Year\"])][record[\"Party\"]] = record[\"Percentage\"]"
   ]
  },
  {
   "cell_type": "code",
   "execution_count": 65,
   "id": "atmospheric-effectiveness",
   "metadata": {},
   "outputs": [],
   "source": [
    "from functools import cmp_to_key, reduce\n",
    "def cmp(party1, party2):\n",
    "    if (party1 == 'Democratic'): return -1\n",
    "    if (party2 == 'Democratic'): return 1\n",
    "    if (party1 == 'Republican'): return -1\n",
    "    if (party2 == 'Republican'): return 1\n",
    "    return -1 if party1 < party2 else 1\n",
    "party_order = sorted(parties, key=cmp_to_key(cmp))\n",
    "pivot_schema = [(\"State\", GALYLEO_STRING), (\"Year\", GALYLEO_NUMBER)] + [(party, GALYLEO_NUMBER) for party in party_order]\n",
    "pivot_data = [[record[\"State\"], record[\"Year\"]] + [record[party] for party in party_order] for record in pivot_table.values()]\n",
    "galyleo_pivot_table = GalyleoTable(\"presidential_vote_history\")\n",
    "galyleo_pivot_table.load_from_schema_and_data(pivot_schema, pivot_data)\n",
    "client.send_data_to_dashboard(galyleo_pivot_table)\n"
   ]
  },
  {
   "cell_type": "code",
   "execution_count": 63,
   "id": "intensive-partition",
   "metadata": {},
   "outputs": [],
   "source": [
    "def max_index(array):\n",
    "    result = 0\n",
    "    top = array[0]\n",
    "    for i in range(len(array)):\n",
    "        if (array[i] > top):\n",
    "            top = array[i]\n",
    "            result = i\n",
    "    return result\n",
    "\n",
    "def margin(record_array):\n",
    "    maxIndex = max_index(record_array)\n",
    "    if (maxIndex == 1):\n",
    "        # Republican, score between -5 and -10\n",
    "        raw = (record_array[0] - record_array[1])/2 - 5\n",
    "        return min(-5, max(-10, round(raw)))\n",
    "    elif (maxIndex == 0):\n",
    "        raw = (record_array[0] - record_array[1])/2 + 5\n",
    "        return max(5, min(10, round(raw)))\n",
    "    else:\n",
    "        return 0\n",
    "\n",
    "def margin_record(record):\n",
    "    pct_margin = margin(record[2:])\n",
    "    return [record[0], record[1], pct_margin]\n",
    "\n",
    "margins = [margin_record(record) for record in pivot_data]\n",
    "    "
   ]
  },
  {
   "cell_type": "code",
   "execution_count": 64,
   "id": "continued-navigation",
   "metadata": {},
   "outputs": [],
   "source": [
    "margin_table = GalyleoTable('presidential_margins')\n",
    "margin_table.load_from_schema_and_data([('State', GALYLEO_STRING), ('Year', GALYLEO_NUMBER), ('Margin', GALYLEO_NUMBER)], margins)\n",
    "client.send_data_to_dashboard(margin_table)"
   ]
  },
  {
   "cell_type": "code",
   "execution_count": 62,
   "id": "interpreted-bunny",
   "metadata": {},
   "outputs": [],
   "source": []
  },
  {
   "cell_type": "code",
   "execution_count": null,
   "id": "economic-account",
   "metadata": {},
   "outputs": [],
   "source": []
  }
 ],
 "metadata": {
  "kernelspec": {
   "display_name": "Python 3",
   "language": "python",
   "name": "python3"
  },
  "language_info": {
   "codemirror_mode": {
    "name": "ipython",
    "version": 3
   },
   "file_extension": ".py",
   "mimetype": "text/x-python",
   "name": "python",
   "nbconvert_exporter": "python",
   "pygments_lexer": "ipython3",
   "version": "3.8.8"
  }
 },
 "nbformat": 4,
 "nbformat_minor": 5
}
