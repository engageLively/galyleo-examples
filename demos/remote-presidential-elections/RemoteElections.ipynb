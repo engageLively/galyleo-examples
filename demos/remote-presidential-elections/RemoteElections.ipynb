{
 "cells": [
  {
   "cell_type": "markdown",
   "id": "3d87d7bd-7618-4c85-bcfb-fea4228311fb",
   "metadata": {
    "tags": []
   },
   "source": [
    "# Remote Presidential Elections\n",
    "This demonstration shows the use of RemoteTables (also known as Virtual Tables).  A demonstration server for virtual tables has been set up at https://engagelively.wl.r.appspot.com/, which serves the tables for the Presidential Elemention Demo\n",
    "Note that this Notebook is much simpler than the corresponding Notebook for local tables, as that had to set up the tables."
   ]
  },
  {
   "cell_type": "markdown",
   "id": "1cd95b81-6682-4211-9a82-c362658eab8a",
   "metadata": {},
   "source": [
    "Step 1: Import `RemoteGalyleoTable` and the type constants"
   ]
  },
  {
   "cell_type": "code",
   "execution_count": 1,
   "id": "b634c3a8-9eb6-4e07-87c1-434ee819cb9f",
   "metadata": {
    "tags": []
   },
   "outputs": [],
   "source": [
    "from galyleo.galyleo_table import RemoteGalyleoTable\n",
    "from galyleo.galyleo_constants import GALYLEO_STRING, GALYLEO_NUMBER"
   ]
  },
  {
   "cell_type": "markdown",
   "id": "82ffd679-b9a1-4a36-91f7-4560901e37e1",
   "metadata": {},
   "source": [
    "Set up the base URL for the table, and import the standard Python requests library"
   ]
  },
  {
   "cell_type": "code",
   "execution_count": 2,
   "id": "69ba0299-76fa-45ca-85c0-0000a57703a8",
   "metadata": {
    "tags": []
   },
   "outputs": [],
   "source": [
    "url = \"https://engagelively.wl.r.appspot.com/\"\n",
    "import requests"
   ]
  },
  {
   "cell_type": "markdown",
   "id": "5cd213bd-1a42-4c17-b584-f6d35f86b6be",
   "metadata": {},
   "source": [
    "Every Virtual Table server supports a method, `get_tables` which gets the name and schema of each table as a dictiornary.  So let's use that to find the Presidential Elections tables.  Download the tables and examine them"
   ]
  },
  {
   "cell_type": "code",
   "execution_count": 3,
   "id": "b6c148de-b770-4d86-898f-e5b958da4369",
   "metadata": {
    "tags": []
   },
   "outputs": [],
   "source": [
    "response = requests.get(url + 'get_tables')"
   ]
  },
  {
   "cell_type": "code",
   "execution_count": 4,
   "id": "fccecb31-3d4d-467c-8904-94de18688db5",
   "metadata": {
    "tags": []
   },
   "outputs": [
    {
     "data": {
      "text/plain": [
       "{'electoral_college': [{'name': 'Year', 'type': 'number'},\n",
       "  {'name': 'Democratic', 'type': 'number'},\n",
       "  {'name': 'Republican', 'type': 'number'},\n",
       "  {'name': 'Other', 'type': 'number'}],\n",
       " 'nationwide_vote': [{'name': 'Year', 'type': 'number'},\n",
       "  {'name': 'Party', 'type': 'string'},\n",
       "  {'name': 'Percentage', 'type': 'number'}],\n",
       " 'nationwide_vote_history': [{'name': 'Year', 'type': 'number'},\n",
       "  {'name': 'Democratic', 'type': 'number'},\n",
       "  {'name': 'Republican', 'type': 'number'},\n",
       "  {'name': 'Progressive', 'type': 'number'},\n",
       "  {'name': 'Socialist', 'type': 'number'},\n",
       "  {'name': 'Reform', 'type': 'number'},\n",
       "  {'name': 'Other', 'type': 'number'}],\n",
       " 'presidential_margins': [{'name': 'State', 'type': 'string'},\n",
       "  {'name': 'Year', 'type': 'number'},\n",
       "  {'name': 'Margin', 'type': 'number'}],\n",
       " 'presidential_vote': [{'name': 'Year', 'type': 'number'},\n",
       "  {'name': 'State', 'type': 'string'},\n",
       "  {'name': 'Name', 'type': 'string'},\n",
       "  {'name': 'Party', 'type': 'string'},\n",
       "  {'name': 'Votes', 'type': 'number'},\n",
       "  {'name': 'Percentage', 'type': 'number'}],\n",
       " 'presidential_vote_history': [{'name': 'State', 'type': 'string'},\n",
       "  {'name': 'Year', 'type': 'number'},\n",
       "  {'name': 'Democratic', 'type': 'number'},\n",
       "  {'name': 'Republican', 'type': 'number'},\n",
       "  {'name': 'Progressive', 'type': 'number'},\n",
       "  {'name': 'Socialist', 'type': 'number'},\n",
       "  {'name': 'Reform', 'type': 'number'},\n",
       "  {'name': 'Other', 'type': 'number'}]}"
      ]
     },
     "execution_count": 4,
     "metadata": {},
     "output_type": "execute_result"
    }
   ],
   "source": [
    "tables = response.json()\n",
    "tables"
   ]
  },
  {
   "cell_type": "markdown",
   "id": "4dee90aa-fbbd-46aa-b63b-d6778ce15861",
   "metadata": {},
   "source": [
    "Create a GalyleoClient to send data to the dashboard."
   ]
  },
  {
   "cell_type": "code",
   "execution_count": 5,
   "id": "1e3a7c47-777f-4055-9a5b-379535cc8628",
   "metadata": {
    "tags": []
   },
   "outputs": [],
   "source": [
    "from galyleo.galyleo_jupyterlab_client import GalyleoClient\n",
    "client = GalyleoClient()"
   ]
  },
  {
   "cell_type": "markdown",
   "id": "d7630045-855d-435f-b57b-8ff69c32aeb5",
   "metadata": {},
   "source": [
    "Now we can create a RemoteGalyleoTable for each table and send it to a dashboard.  _If you have not created a Dashboard already, do so now so the tables can be sent to the dashboard_."
   ]
  },
  {
   "cell_type": "code",
   "execution_count": 7,
   "id": "01f13635-0860-498b-9210-97a7cb499b4a",
   "metadata": {
    "tags": []
   },
   "outputs": [],
   "source": [
    "for (table_name, table_schema) in tables.items():\n",
    "    table = RemoteGalyleoTable(table_name, table_schema, url)\n",
    "    client.send_data_to_dashboard(table)"
   ]
  },
  {
   "cell_type": "markdown",
   "id": "53423b2f-4901-4618-b3f1-520f47913076",
   "metadata": {},
   "source": [
    "Now, click over to the dashboard you've created and see the tables"
   ]
  }
 ],
 "metadata": {
  "kernelspec": {
   "display_name": "Python 3 (ipykernel)",
   "language": "python",
   "name": "python3"
  },
  "language_info": {
   "codemirror_mode": {
    "name": "ipython",
    "version": 3
   },
   "file_extension": ".py",
   "mimetype": "text/x-python",
   "name": "python",
   "nbconvert_exporter": "python",
   "pygments_lexer": "ipython3",
   "version": "3.10.9"
  }
 },
 "nbformat": 4,
 "nbformat_minor": 5
}
