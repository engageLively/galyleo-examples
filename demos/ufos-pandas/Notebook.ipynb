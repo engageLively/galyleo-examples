{
 "cells": [
  {
   "cell_type": "markdown",
   "id": "material-booth",
   "metadata": {},
   "source": [
    "# UFO Notebook\n",
    "This Notebook takes the csv version of the UFO database in the file in elections.csv, and turns it into the six tables required for the UFO dashboard in the example.  The dashboard produced is exactly the same as the one in the UFO example; the difference is that Pandas is used to read the csv file and form the tables.  To no one's surprise, this is much shorter and more concise than the equivalent notebook in the ufos directory"
   ]
  },
  {
   "cell_type": "code",
   "execution_count": 55,
   "id": "composite-hardware",
   "metadata": {},
   "outputs": [],
   "source": [
    "import pandas as pd\n",
    "from galyleo.galyleo_table import GalyleoTable\n",
    "from galyleo.galyleo_jupyterlab_client import GalyleoClient"
   ]
  },
  {
   "cell_type": "markdown",
   "id": "covered-philosophy",
   "metadata": {},
   "source": [
    "Get the UFO sightings for the world and for the US (which has, for whatever reason, almost all the sightings)."
   ]
  },
  {
   "cell_type": "code",
   "execution_count": 56,
   "id": "precise-subject",
   "metadata": {},
   "outputs": [],
   "source": [
    "ufos = pd.read_csv('ufos.csv')\n",
    "us = ufos[ufos['country']=='us']"
   ]
  },
  {
   "cell_type": "markdown",
   "id": "catholic-float",
   "metadata": {},
   "source": [
    "A convenience method that groups the columns in the dataframe by the specified indices, pulls their count, creates a GalyleoTable of the result, and loads the dataframe into the table."
   ]
  },
  {
   "cell_type": "code",
   "execution_count": 57,
   "id": "declared-ready",
   "metadata": {},
   "outputs": [],
   "source": [
    "def create_aggregate_table(dataframe, columns, table_name):\n",
    "    new_frame = dataframe.groupby(columns).size().reset_index(name = 'count')\n",
    "    result = GalyleoTable(table_name)\n",
    "    result.load_from_dataframe(new_frame)\n",
    "    return result"
   ]
  },
  {
   "cell_type": "markdown",
   "id": "focal-accessory",
   "metadata": {},
   "source": [
    "The base maps (for the world and the us) far formed by aggregating with respect to year and country, and year and state, respectively"
   ]
  },
  {
   "cell_type": "code",
   "execution_count": 58,
   "id": "documented-privilege",
   "metadata": {},
   "outputs": [],
   "source": [
    "world_map = create_aggregate_table(ufos, ['year', 'country'], 'aggregate_cy')\n",
    "us_map = create_aggregate_table(us, ['year', 'state'], 'aggregate_sy')\n",
    "client = GalyleoClient()\n",
    "client.send_data_to_dashboard(world_map)\n",
    "client.send_data_to_dashboard(us_map)"
   ]
  },
  {
   "cell_type": "markdown",
   "id": "hydraulic-participant",
   "metadata": {},
   "source": [
    "The column charts are sightings vs month, with the year selected by the slider and the locale by clicking on the country/state on the map.  Here, we send the groups and they'll be filtered on the dashboard."
   ]
  },
  {
   "cell_type": "code",
   "execution_count": 59,
   "id": "smoking-carter",
   "metadata": {},
   "outputs": [],
   "source": [
    "world_by_month_and_year = create_aggregate_table(ufos, ['year', 'country', 'month'], 'aggregate_cym')\n",
    "us_by_month_and_year = create_aggregate_table(us, ['year', 'state', 'month'], 'aggregate_sym')\n",
    "client.send_data_to_dashboard(world_by_month_and_year)\n",
    "client.send_data_to_dashboard(us_by_month_and_year)"
   ]
  },
  {
   "cell_type": "markdown",
   "id": "enabling-retailer",
   "metadata": {},
   "source": [
    "The column charts are sightings vs type, with the year selected by the slider and the locale by clicking on the country/state on the map.  "
   ]
  },
  {
   "cell_type": "code",
   "execution_count": 60,
   "id": "handy-retreat",
   "metadata": {},
   "outputs": [],
   "source": [
    "world_by_type_and_year = create_aggregate_table(ufos, ['year', 'country', 'type'], 'aggregate_cyt')\n",
    "us_by_type_and_year = create_aggregate_table(us, ['year', 'state', 'type'], 'aggregate_syt')\n",
    "client.send_data_to_dashboard(world_by_type_and_year)\n",
    "client.send_data_to_dashboard(us_by_type_and_year)"
   ]
  },
  {
   "cell_type": "code",
   "execution_count": 64,
   "id": "fatal-heart",
   "metadata": {},
   "outputs": [],
   "source": [
    "t1 = ufos.groupby(['year', 'country', 'month']).size().reset_index(name = 'count')"
   ]
  },
  {
   "cell_type": "code",
   "execution_count": 66,
   "id": "modular-transsexual",
   "metadata": {},
   "outputs": [
    {
     "data": {
      "text/html": [
       "<div>\n",
       "<style scoped>\n",
       "    .dataframe tbody tr th:only-of-type {\n",
       "        vertical-align: middle;\n",
       "    }\n",
       "\n",
       "    .dataframe tbody tr th {\n",
       "        vertical-align: top;\n",
       "    }\n",
       "\n",
       "    .dataframe thead th {\n",
       "        text-align: right;\n",
       "    }\n",
       "</style>\n",
       "<table border=\"1\" class=\"dataframe\">\n",
       "  <thead>\n",
       "    <tr style=\"text-align: right;\">\n",
       "      <th></th>\n",
       "      <th>year</th>\n",
       "      <th>country</th>\n",
       "      <th>month</th>\n",
       "      <th>count</th>\n",
       "    </tr>\n",
       "  </thead>\n",
       "  <tbody>\n",
       "    <tr>\n",
       "      <th>142</th>\n",
       "      <td>1958</td>\n",
       "      <td>au</td>\n",
       "      <td>6</td>\n",
       "      <td>1</td>\n",
       "    </tr>\n",
       "    <tr>\n",
       "      <th>164</th>\n",
       "      <td>1960</td>\n",
       "      <td>au</td>\n",
       "      <td>7</td>\n",
       "      <td>1</td>\n",
       "    </tr>\n",
       "    <tr>\n",
       "      <th>270</th>\n",
       "      <td>1967</td>\n",
       "      <td>au</td>\n",
       "      <td>1</td>\n",
       "      <td>1</td>\n",
       "    </tr>\n",
       "    <tr>\n",
       "      <th>291</th>\n",
       "      <td>1968</td>\n",
       "      <td>au</td>\n",
       "      <td>6</td>\n",
       "      <td>1</td>\n",
       "    </tr>\n",
       "    <tr>\n",
       "      <th>373</th>\n",
       "      <td>1972</td>\n",
       "      <td>au</td>\n",
       "      <td>2</td>\n",
       "      <td>1</td>\n",
       "    </tr>\n",
       "    <tr>\n",
       "      <th>...</th>\n",
       "      <td>...</td>\n",
       "      <td>...</td>\n",
       "      <td>...</td>\n",
       "      <td>...</td>\n",
       "    </tr>\n",
       "    <tr>\n",
       "      <th>1815</th>\n",
       "      <td>2014</td>\n",
       "      <td>au</td>\n",
       "      <td>1</td>\n",
       "      <td>2</td>\n",
       "    </tr>\n",
       "    <tr>\n",
       "      <th>1816</th>\n",
       "      <td>2014</td>\n",
       "      <td>au</td>\n",
       "      <td>2</td>\n",
       "      <td>1</td>\n",
       "    </tr>\n",
       "    <tr>\n",
       "      <th>1817</th>\n",
       "      <td>2014</td>\n",
       "      <td>au</td>\n",
       "      <td>3</td>\n",
       "      <td>6</td>\n",
       "    </tr>\n",
       "    <tr>\n",
       "      <th>1818</th>\n",
       "      <td>2014</td>\n",
       "      <td>au</td>\n",
       "      <td>4</td>\n",
       "      <td>4</td>\n",
       "    </tr>\n",
       "    <tr>\n",
       "      <th>1819</th>\n",
       "      <td>2014</td>\n",
       "      <td>au</td>\n",
       "      <td>5</td>\n",
       "      <td>1</td>\n",
       "    </tr>\n",
       "  </tbody>\n",
       "</table>\n",
       "<p>231 rows × 4 columns</p>\n",
       "</div>"
      ],
      "text/plain": [
       "      year country  month  count\n",
       "142   1958      au      6      1\n",
       "164   1960      au      7      1\n",
       "270   1967      au      1      1\n",
       "291   1968      au      6      1\n",
       "373   1972      au      2      1\n",
       "...    ...     ...    ...    ...\n",
       "1815  2014      au      1      2\n",
       "1816  2014      au      2      1\n",
       "1817  2014      au      3      6\n",
       "1818  2014      au      4      4\n",
       "1819  2014      au      5      1\n",
       "\n",
       "[231 rows x 4 columns]"
      ]
     },
     "execution_count": 66,
     "metadata": {},
     "output_type": "execute_result"
    }
   ],
   "source": [
    "t1[t1['country'] == 'au']"
   ]
  },
  {
   "cell_type": "code",
   "execution_count": null,
   "id": "convenient-groove",
   "metadata": {},
   "outputs": [],
   "source": []
  },
  {
   "cell_type": "code",
   "execution_count": null,
   "id": "medical-practitioner",
   "metadata": {},
   "outputs": [],
   "source": []
  }
 ],
 "metadata": {
  "kernelspec": {
   "display_name": "Python 3",
   "language": "python",
   "name": "python3"
  },
  "language_info": {
   "codemirror_mode": {
    "name": "ipython",
    "version": 3
   },
   "file_extension": ".py",
   "mimetype": "text/x-python",
   "name": "python",
   "nbconvert_exporter": "python",
   "pygments_lexer": "ipython3",
   "version": "3.8.8"
  }
 },
 "nbformat": 4,
 "nbformat_minor": 5
}
