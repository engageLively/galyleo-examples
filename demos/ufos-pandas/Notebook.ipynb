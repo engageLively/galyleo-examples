{
 "cells": [
  {
   "cell_type": "markdown",
   "id": "sorted-driving",
   "metadata": {},
   "source": [
    "# UFO Notebook\n",
    "This Notebook takes the csv version of the UFO database in the file in elections.csv, and turns it into the six tables required for the UFO dashboard in the example.  The dashboard produced is exactly the same as the one in the UFO example; the difference is that Pandas is used to read the csv file and form the tables.  To no one's surprise, this is much shorter and more concise than the equivalent notebook in the ufos directory"
   ]
  },
  {
   "cell_type": "code",
   "execution_count": 1,
   "id": "special-silver",
   "metadata": {},
   "outputs": [],
   "source": [
    "import pandas as pd\n",
    "from galyleo.galyleo_table import GalyleoTable\n",
    "from galyleo.galyleo_jupyterlab_client import GalyleoClient"
   ]
  },
  {
   "cell_type": "markdown",
   "id": "olympic-grammar",
   "metadata": {},
   "source": [
    "Get the UFO sightings for the world and for the US (which has, for whatever reason, almost all the sightings)."
   ]
  },
  {
   "cell_type": "code",
   "execution_count": 2,
   "id": "fossil-monte",
   "metadata": {},
   "outputs": [],
   "source": [
    "ufos = pd.read_csv('ufos.csv')\n",
    "us = ufos[ufos['country']=='us']"
   ]
  },
  {
   "cell_type": "markdown",
   "id": "continent-exhibition",
   "metadata": {},
   "source": [
    "A convenience method that groups the columns in the dataframe by the specified indices, pulls their count, creates a GalyleoTable of the result, and loads the dataframe into the table."
   ]
  },
  {
   "cell_type": "code",
   "execution_count": 3,
   "id": "welsh-template",
   "metadata": {},
   "outputs": [],
   "source": [
    "def create_aggregate_dataframe(dataframe, columns, count_column_name = 'count'):\n",
    "    return dataframe.groupby(columns).size().reset_index(name = count_column_name)"
   ]
  },
  {
   "cell_type": "markdown",
   "id": "ceramic-question",
   "metadata": {},
   "source": [
    "Another convenience method, that takes a dataframe, a table_name, and a client, and wraps the dataframe in a GalyleoTable and sends it to the dashboard via client"
   ]
  },
  {
   "cell_type": "code",
   "execution_count": 4,
   "id": "normal-spending",
   "metadata": {},
   "outputs": [],
   "source": [
    "def send_dataframe_to_dashboard(dataframe, table_name, client):\n",
    "    table = GalyleoTable(table_name)\n",
    "    table.load_from_dataframe(dataframe)\n",
    "    client.send_data_to_dashboard(table)"
   ]
  },
  {
   "cell_type": "markdown",
   "id": "solved-pepper",
   "metadata": {},
   "source": [
    "The base maps (for the world and the us) far formed by aggregating with respect to year and country, and year and state, respectively"
   ]
  },
  {
   "cell_type": "code",
   "execution_count": 5,
   "id": "automatic-commission",
   "metadata": {},
   "outputs": [],
   "source": [
    "world_map = create_aggregate_dataframe(ufos, ['year', 'country'])\n",
    "us_map = create_aggregate_dataframe(us, ['year', 'state'])"
   ]
  },
  {
   "cell_type": "markdown",
   "id": "undefined-psychiatry",
   "metadata": {},
   "source": [
    "Create the client and send the data to the dashboard"
   ]
  },
  {
   "cell_type": "code",
   "execution_count": 6,
   "id": "rising-express",
   "metadata": {},
   "outputs": [],
   "source": [
    "client = GalyleoClient()\n",
    "send_dataframe_to_dashboard(world_map, 'aggregate_cy', client)\n",
    "send_dataframe_to_dashboard(us_map, 'aggregate_sy', client)"
   ]
  },
  {
   "cell_type": "markdown",
   "id": "alert-publicity",
   "metadata": {},
   "source": [
    "The column charts are sightings vs month, with the year selected by the slider and the locale by clicking on the country/state on the map.  Here, we send the groups and they'll be filtered on the dashboard."
   ]
  },
  {
   "cell_type": "code",
   "execution_count": 8,
   "id": "automatic-accordance",
   "metadata": {},
   "outputs": [],
   "source": [
    "world_by_month_and_year = create_aggregate_dataframe(ufos, ['year', 'country', 'month'])\n",
    "us_by_month_and_year = create_aggregate_dataframe(us, ['year', 'state', 'month'])\n",
    "send_dataframe_to_dashboard(world_by_month_and_year, 'aggregate_cym', client)\n",
    "send_dataframe_to_dashboard(us_by_month_and_year, 'aggregate_sym', client)"
   ]
  },
  {
   "cell_type": "markdown",
   "id": "applied-master",
   "metadata": {},
   "source": [
    "The column charts are sightings vs type, with the year selected by the slider and the locale by clicking on the country/state on the map.  "
   ]
  },
  {
   "cell_type": "code",
   "execution_count": 9,
   "id": "current-pencil",
   "metadata": {},
   "outputs": [],
   "source": [
    "world_by_type_and_year = create_aggregate_dataframe(ufos, ['year', 'country', 'type'])\n",
    "us_by_type_and_year = create_aggregate_dataframe(us, ['year', 'state', 'type'])\n",
    "send_dataframe_to_dashboard(world_by_type_and_year, 'aggregate_cyt', client)\n",
    "send_dataframe_to_dashboard(us_by_type_and_year,  'aggregate_syt', client)"
   ]
  },
  {
   "cell_type": "code",
   "execution_count": null,
   "id": "computational-blood",
   "metadata": {},
   "outputs": [],
   "source": []
  }
 ],
 "metadata": {
  "kernelspec": {
   "display_name": "Python 3",
   "language": "python",
   "name": "python3"
  },
  "language_info": {
   "codemirror_mode": {
    "name": "ipython",
    "version": 3
   },
   "file_extension": ".py",
   "mimetype": "text/x-python",
   "name": "python",
   "nbconvert_exporter": "python",
   "pygments_lexer": "ipython3",
   "version": "3.8.8"
  }
 },
 "nbformat": 4,
 "nbformat_minor": 5
}
