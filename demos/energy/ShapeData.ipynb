{
 "cells": [
  {
   "cell_type": "code",
   "execution_count": 20,
   "id": "endangered-filename",
   "metadata": {},
   "outputs": [],
   "source": [
    "import csv\n",
    "with open('energy_data_trimmed.csv', 'r') as f:\n",
    "    r = csv.reader(f)\n",
    "    rows = [row for row in r]\n"
   ]
  },
  {
   "cell_type": "code",
   "execution_count": 21,
   "id": "limited-darwin",
   "metadata": {},
   "outputs": [
    {
     "data": {
      "text/plain": [
       "126"
      ]
     },
     "execution_count": 21,
     "metadata": {},
     "output_type": "execute_result"
    }
   ],
   "source": [
    "len(rows[0])"
   ]
  },
  {
   "cell_type": "code",
   "execution_count": 22,
   "id": "joint-discovery",
   "metadata": {},
   "outputs": [
    {
     "data": {
      "text/plain": [
       "['State', 'TotalC2010', 'TotalC2011', 'TotalC2012', 'TotalC2013', 'TotalC2014']"
      ]
     },
     "execution_count": 22,
     "metadata": {},
     "output_type": "execute_result"
    }
   ],
   "source": [
    "rows[0][:6]"
   ]
  },
  {
   "cell_type": "code",
   "execution_count": 23,
   "id": "royal-sauce",
   "metadata": {},
   "outputs": [],
   "source": [
    "columns = [entry[:-4] for entry in rows[0] if entry.endswith('2010')]"
   ]
  },
  {
   "cell_type": "code",
   "execution_count": 24,
   "id": "refined-facing",
   "metadata": {},
   "outputs": [],
   "source": [
    "index_2010 = [i for i in range(len(rows[0])) if rows[0][i].endswith('2010')]"
   ]
  },
  {
   "cell_type": "code",
   "execution_count": 25,
   "id": "colonial-christianity",
   "metadata": {},
   "outputs": [],
   "source": [
    "def safe_convert(s):\n",
    "    try:\n",
    "        return float(s)\n",
    "    except ValueError:\n",
    "        return 0\n",
    "\n",
    "def extract_rows(original_row):\n",
    "    state = original_row[0]\n",
    "    result = []\n",
    "    for i in range(5):\n",
    "        index_columns = [j + i for j in index_2010]\n",
    "        result.append([state, 2010 + i] + [safe_convert(original_row[j]) for j in index_columns])\n",
    "    return result\n",
    "        "
   ]
  },
  {
   "cell_type": "code",
   "execution_count": 26,
   "id": "viral-operations",
   "metadata": {},
   "outputs": [],
   "source": [
    "with open('energy_database.csv', 'w') as f:\n",
    "    w = csv.writer(f)\n",
    "    w.writerow(['State', 'Year'] + columns)\n",
    "    for row in rows[1:]:\n",
    "        w.writerows(extract_rows(row))\n",
    "    "
   ]
  },
  {
   "cell_type": "code",
   "execution_count": null,
   "id": "viral-consideration",
   "metadata": {},
   "outputs": [],
   "source": []
  }
 ],
 "metadata": {
  "kernelspec": {
   "display_name": "Python 3",
   "language": "python",
   "name": "python3"
  },
  "language_info": {
   "codemirror_mode": {
    "name": "ipython",
    "version": 3
   },
   "file_extension": ".py",
   "mimetype": "text/x-python",
   "name": "python",
   "nbconvert_exporter": "python",
   "pygments_lexer": "ipython3",
   "version": "3.8.8"
  }
 },
 "nbformat": 4,
 "nbformat_minor": 5
}
