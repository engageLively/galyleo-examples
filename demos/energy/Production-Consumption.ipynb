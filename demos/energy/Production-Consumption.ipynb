{
 "cells": [
  {
   "cell_type": "code",
   "execution_count": 1,
   "id": "parental-plenty",
   "metadata": {},
   "outputs": [],
   "source": [
    "import csv\n",
    "with open('energy_database.csv', 'r') as f:\n",
    "    r = csv.reader(f)\n",
    "    rows = [row for row in r]"
   ]
  },
  {
   "cell_type": "code",
   "execution_count": 2,
   "id": "latin-complaint",
   "metadata": {},
   "outputs": [
    {
     "data": {
      "text/plain": [
       "['State',\n",
       " 'Year',\n",
       " 'TotalC',\n",
       " 'TotalP',\n",
       " 'TotalE',\n",
       " 'TotalPrice',\n",
       " 'BiomassC',\n",
       " 'CoalC',\n",
       " 'CoalP',\n",
       " 'CoalE',\n",
       " 'CoalPrice',\n",
       " 'ElecC',\n",
       " 'ElecE',\n",
       " 'ElecPrice',\n",
       " 'FossFuelC',\n",
       " 'GeoC',\n",
       " 'GeoP',\n",
       " 'HydroC',\n",
       " 'HydroP',\n",
       " 'NatGasC',\n",
       " 'NatGasE',\n",
       " 'NatGasPrice',\n",
       " 'LPGC',\n",
       " 'LPGE',\n",
       " 'LPGPrice',\n",
       " 'GDP',\n",
       " 'POPESTIMATE']"
      ]
     },
     "execution_count": 2,
     "metadata": {},
     "output_type": "execute_result"
    }
   ],
   "source": [
    "rows[0]"
   ]
  },
  {
   "cell_type": "code",
   "execution_count": 5,
   "id": "enormous-wright",
   "metadata": {},
   "outputs": [],
   "source": [
    "consumption_index = [i for i in range(4, len(rows[0])) if rows[0][i].endswith('C')]\n",
    "production_index = [i for i in range(4, len(rows[0])) if rows[0][i].endswith('P')][:-1]\n"
   ]
  },
  {
   "cell_type": "code",
   "execution_count": 6,
   "id": "trying-yahoo",
   "metadata": {},
   "outputs": [],
   "source": [
    "def summary_rows(row, index_set):\n",
    "    return [[row[0], int(row[1]), rows[0][index][:-1], float(row[index])] for index in index_set]"
   ]
  },
  {
   "cell_type": "code",
   "execution_count": 7,
   "id": "victorian-package",
   "metadata": {},
   "outputs": [
    {
     "data": {
      "text/plain": [
       "[['Alabama', 2010, 'Coal', 493094.0],\n",
       " ['Alabama', 2010, 'Geo', 0.0],\n",
       " ['Alabama', 2010, 'Hydro', 8704.0]]"
      ]
     },
     "execution_count": 7,
     "metadata": {},
     "output_type": "execute_result"
    }
   ],
   "source": [
    "summary_rows(rows[1], production_index)"
   ]
  },
  {
   "cell_type": "code",
   "execution_count": null,
   "id": "confidential-cooper",
   "metadata": {},
   "outputs": [],
   "source": [
    "def write_summary(index, filename):\n",
    "    with open(filename, 'w') as f:\n",
    "        w = csv.writer(f)\n",
    "        w.writerow(['State', 'Year', 'Source', \"Total\"])\n",
    "        for row in rows[1:]:\n",
    "            w.writerows(summary_rows(row, index))\n",
    "    "
   ]
  },
  {
   "cell_type": "code",
   "execution_count": 23,
   "id": "automated-singer",
   "metadata": {},
   "outputs": [],
   "source": [
    "write_summary(consumption_index, 'consumption.csv')"
   ]
  },
  {
   "cell_type": "code",
   "execution_count": 24,
   "id": "artistic-organization",
   "metadata": {},
   "outputs": [],
   "source": [
    "write_summary(production_index, 'production.csv')"
   ]
  },
  {
   "cell_type": "code",
   "execution_count": null,
   "id": "offensive-malpractice",
   "metadata": {},
   "outputs": [],
   "source": []
  }
 ],
 "metadata": {
  "kernelspec": {
   "display_name": "Python 3",
   "language": "python",
   "name": "python3"
  },
  "language_info": {
   "codemirror_mode": {
    "name": "ipython",
    "version": 3
   },
   "file_extension": ".py",
   "mimetype": "text/x-python",
   "name": "python",
   "nbconvert_exporter": "python",
   "pygments_lexer": "ipython3",
   "version": "3.8.8"
  }
 },
 "nbformat": 4,
 "nbformat_minor": 5
}
