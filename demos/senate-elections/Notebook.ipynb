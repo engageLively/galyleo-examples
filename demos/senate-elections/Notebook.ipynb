{
 "cells": [
  {
   "cell_type": "markdown",
   "id": "ranking-probe",
   "metadata": {},
   "source": [
    "# Senate Elections, 1976-2020\n",
    "This Notebook computes the tables required for the Senate Elections example dashboard.\n",
    "\n",
    "Step 1: Import the libraries"
   ]
  },
  {
   "cell_type": "code",
   "execution_count": 101,
   "id": "opponent-arbitration",
   "metadata": {},
   "outputs": [],
   "source": [
    "import pandas as pd\n",
    "from galyleo.galyleo_table import GalyleoTable\n",
    "from galyleo.galyleo_jupyterlab_client import GalyleoClient"
   ]
  },
  {
   "cell_type": "markdown",
   "id": "covered-aspect",
   "metadata": {},
   "source": [
    "Use Pandas to read the libraries, and view the result"
   ]
  },
  {
   "cell_type": "code",
   "execution_count": 199,
   "id": "lesser-sacrifice",
   "metadata": {},
   "outputs": [],
   "source": [
    "elections = pd.read_csv('1976-2020-senate.csv')"
   ]
  },
  {
   "cell_type": "markdown",
   "id": "marine-synthetic",
   "metadata": {},
   "source": [
    "Cut out irrelevant columns, compute the percentage, and trim out candidates who got < 5% of the vote"
   ]
  },
  {
   "cell_type": "code",
   "execution_count": 165,
   "id": "divine-minimum",
   "metadata": {},
   "outputs": [],
   "source": [
    "elections_trimmed = elections[['year', 'state', 'special', 'candidate', 'party_simplified', 'candidatevotes', 'totalvotes']]\n",
    "elections_two = elections_trimmed.assign(percentage=pd.Series(elections_trimmed['candidatevotes']/elections_trimmed['totalvotes'] * 100))\n",
    "elections_three = elections_two[elections_two['percentage'] > 5]"
   ]
  },
  {
   "cell_type": "markdown",
   "id": "elementary-spencer",
   "metadata": {},
   "source": [
    "A convenience method to send a dataframe to a dashboard, with table name name, using GalyleoClient client"
   ]
  },
  {
   "cell_type": "code",
   "execution_count": 166,
   "id": "complex-springer",
   "metadata": {},
   "outputs": [],
   "source": [
    "def send_dataframe_to_dashboard_table(dataframe, table_name, client):\n",
    "    table = GalyleoTable(table_name)\n",
    "    table.load_from_dataframe(dataframe)\n",
    "    client.send_data_to_dashboard(table)"
   ]
  },
  {
   "cell_type": "code",
   "execution_count": 167,
   "id": "first-control",
   "metadata": {},
   "outputs": [],
   "source": [
    "client = GalyleoClient()\n",
    "send_dataframe_to_dashboard_table(elections_three, 'senate_vote', client)"
   ]
  },
  {
   "cell_type": "markdown",
   "id": "insured-imagination",
   "metadata": {},
   "source": [
    "A convenience  method to take a dataframe, add columns for the values in split_column_name, and populate those columns with the appropriate value from values_column_name.  The use case for this in this Notebook is to take the percentage column and turn it into four columns: DEMOCRAT, REPUBLICAN, LIBERTARIAN, AND OTHER.\n",
    "Parameters: \n",
    "  - dataframe: the source dataframe\n",
    "  - index_columns: the columns to use as indexes -- common across all the daughter tables\n",
    "  - split_column_name: the column containing the names of the new columns\n",
    "  - values_column_name: the column containing the values for the new columns"
   ]
  },
  {
   "cell_type": "code",
   "execution_count": 187,
   "id": "damaged-audience",
   "metadata": {},
   "outputs": [],
   "source": [
    "def split_column(dataframe, index_columns, split_column_name, values_column_name):\n",
    "    keep_columns = index_columns + [values_column_name]\n",
    "    table_names = set([v for v in dataframe[split_column_name]])\n",
    "    tables = []\n",
    "    for name in table_names:\n",
    "        table = dataframe[dataframe[split_column_name] == name][keep_columns]\n",
    "        tables.append(table.rename(columns = {values_column_name: name}).set_index(index_columns))\n",
    "    result = tables[0]\n",
    "    for table in tables[1:]:\n",
    "        result = result.join(table, how = 'outer')\n",
    "    return result.reset_index().fillna(0)"
   ]
  },
  {
   "cell_type": "code",
   "execution_count": 188,
   "id": "metallic-accent",
   "metadata": {},
   "outputs": [],
   "source": [
    "by_party = split_column(elections_three, ['year', 'state', 'special'], 'party_simplified', 'percentage')"
   ]
  },
  {
   "cell_type": "markdown",
   "id": "above-serum",
   "metadata": {},
   "source": [
    "Compute the margin for a row.  This should be +5 to + 10 for a Democrat victory, 0 for OTHER or LIBERTARIAN, and -5 to -10 for a REPUBLICAN victory.  5 is a DEMOCRAT squeaker, 10 a landslide, -5 a REPUBLICAN squeaker, -10 a landslide"
   ]
  },
  {
   "cell_type": "code",
   "execution_count": 189,
   "id": "brief-painting",
   "metadata": {},
   "outputs": [],
   "source": [
    "import math\n",
    "\n",
    "def compute_margin(row):\n",
    "    keys = ['DEMOCRAT', 'REPUBLICAN', 'LIBERTARIAN', 'OTHER']\n",
    "    parties = [(key, row[key]) for key in keys]\n",
    "    parties.sort(key=lambda party: party[1], reverse=True)\n",
    "    if (parties[0][0] in {'LIBERTARIAN', 'OTHER'}): return 0\n",
    "    margin = min(math.floor((parties[0][1] - parties[1][1])/2), 5)\n",
    "    return margin + 5 if  parties[0][0] == 'DEMOCRAT' else -(5 + margin)"
   ]
  },
  {
   "cell_type": "code",
   "execution_count": 190,
   "id": "senior-potter",
   "metadata": {},
   "outputs": [],
   "source": [
    "by_party['margin'] = by_party.apply(lambda row: compute_margin(row), axis = 1)"
   ]
  },
  {
   "cell_type": "markdown",
   "id": "sticky-stevens",
   "metadata": {},
   "source": [
    "Send the vote history table to the dashboard"
   ]
  },
  {
   "cell_type": "code",
   "execution_count": 191,
   "id": "assigned-insulation",
   "metadata": {},
   "outputs": [],
   "source": [
    "send_dataframe_to_dashboard_table(by_party[['year', 'state', 'special', 'REPUBLICAN', 'DEMOCRAT', 'LIBERTARIAN', 'OTHER']], 'history', client)"
   ]
  },
  {
   "cell_type": "markdown",
   "id": "periodic-gallery",
   "metadata": {},
   "source": [
    "Send the margin table to the dashboard"
   ]
  },
  {
   "cell_type": "code",
   "execution_count": 192,
   "id": "adaptive-massachusetts",
   "metadata": {},
   "outputs": [],
   "source": [
    "send_dataframe_to_dashboard_table(by_party[['year', 'state', 'special', 'margin']], 'margin', client)"
   ]
  },
  {
   "cell_type": "markdown",
   "id": "activated-shepherd",
   "metadata": {},
   "source": [
    "Read the Senate control table (how many seats before/after each election) and send to dashboard"
   ]
  },
  {
   "cell_type": "code",
   "execution_count": 193,
   "id": "subsequent-softball",
   "metadata": {},
   "outputs": [],
   "source": [
    "control = pd.read_csv('senate-control.csv')\n",
    "send_dataframe_to_dashboard_table(control, 'senate-control', client)"
   ]
  }
 ],
 "metadata": {
  "kernelspec": {
   "display_name": "Python 3",
   "language": "python",
   "name": "python3"
  },
  "language_info": {
   "codemirror_mode": {
    "name": "ipython",
    "version": 3
   },
   "file_extension": ".py",
   "mimetype": "text/x-python",
   "name": "python",
   "nbconvert_exporter": "python",
   "pygments_lexer": "ipython3",
   "version": "3.8.8"
  }
 },
 "nbformat": 4,
 "nbformat_minor": 5
}
