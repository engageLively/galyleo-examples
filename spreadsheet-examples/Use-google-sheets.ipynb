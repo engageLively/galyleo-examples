{
 "cells": [
  {
   "cell_type": "markdown",
   "id": "d59bbacb-50b8-47f8-9130-32c0ebc6509a",
   "metadata": {},
   "source": [
    "# Using Google Sheets Inside a Galyleo Notebook\n",
    "This Notebook shows how to import a Google Sheet into a Galyleo Notebook for analysis and charting.\n",
    "\n",
    "Step 1 is to ensure that the Notebook can load the sheet.  In order to do this, share the sheet (as *viewer only*) with the world:\n",
    "\n",
    "![Share dialog image](share-sheet.png)\n",
    "\n",
    "Step 2 is to import the right libraries.  [Pandas](https://pandas.pydata.org/docs/) is the world's most popular Python library for reading these documents."
   ]
  },
  {
   "cell_type": "code",
   "execution_count": null,
   "id": "63e3a3e2-cbef-4a42-b9c0-28b383368a9a",
   "metadata": {},
   "outputs": [],
   "source": [
    "import pandas as pd"
   ]
  },
  {
   "cell_type": "markdown",
   "id": "85363cf3-c127-4a04-bebd-d427bc05a5d2",
   "metadata": {},
   "source": [
    "Copy the spreadsheet URL and paste it into a variable\n",
    "\n",
    "![Copy URL](copy-link.png)"
   ]
  },
  {
   "cell_type": "code",
   "execution_count": 4,
   "id": "1fc8e845-a50b-4e14-a365-36d83a721c8a",
   "metadata": {},
   "outputs": [],
   "source": [
    "original_url = \"https://docs.google.com/spreadsheets/d/11JHE646zW2elpNoRHna-JfAif231zmL2H6_g_s0xXLk/edit?usp=sharing\""
   ]
  },
  {
   "cell_type": "markdown",
   "id": "d0efff4f-cef3-4d25-90d5-3d49248d1836",
   "metadata": {},
   "source": [
    "This URL isn't quite right: it's how you'd access the sheet for editing in a browser.  But in this case, we want to download it into a Pandas Dataframe as a CSV file.  So we modiify the URL like so:\n",
    "\n",
    "Original URL: https://docs.google.com/spreadsheets/d/11JHE646zW2elpNoRHna-JfAif231zmL2H6_g_s0xXLk/edit?usp=sharing\n",
    "\n",
    "Change \"edit?usp=sharing\" to \"export?format=csv\"\n",
    "\n",
    "Modified URL: https://docs.google.com/spreadsheets/d/11JHE646zW2elpNoRHna-JfAif231zmL2H6_g_s0xXLk/export?format=csv\n",
    "\n",
    "Try clicking on these URLs now to see the difference in behavior.  Notice the second one *if clicked on in a browser*, downloads this file to your local disk.  But when we give this to PANDAS, it just reads the file."
   ]
  },
  {
   "cell_type": "code",
   "execution_count": 5,
   "id": "475c1886-554b-47c5-b891-1f2f561ff7f3",
   "metadata": {},
   "outputs": [],
   "source": [
    "modified_url = 'https://docs.google.com/spreadsheets/d/11JHE646zW2elpNoRHna-JfAif231zmL2H6_g_s0xXLk/export?format=csv'\n",
    "df = pd.read_csv(modified_url)"
   ]
  },
  {
   "cell_type": "markdown",
   "id": "e63c8d53-8549-40d3-93c3-b27c15b1c0dc",
   "metadata": {},
   "source": [
    "Now we've read the Google sheet into a Dataframe"
   ]
  },
  {
   "cell_type": "code",
   "execution_count": 6,
   "id": "c49aafb9-b54f-4a13-b116-df3d514ca52c",
   "metadata": {},
   "outputs": [
    {
     "data": {
      "text/html": [
       "<div>\n",
       "<style scoped>\n",
       "    .dataframe tbody tr th:only-of-type {\n",
       "        vertical-align: middle;\n",
       "    }\n",
       "\n",
       "    .dataframe tbody tr th {\n",
       "        vertical-align: top;\n",
       "    }\n",
       "\n",
       "    .dataframe thead th {\n",
       "        text-align: right;\n",
       "    }\n",
       "</style>\n",
       "<table border=\"1\" class=\"dataframe\">\n",
       "  <thead>\n",
       "    <tr style=\"text-align: right;\">\n",
       "      <th></th>\n",
       "      <th>Country</th>\n",
       "      <th>Year</th>\n",
       "      <th>Growth</th>\n",
       "    </tr>\n",
       "  </thead>\n",
       "  <tbody>\n",
       "    <tr>\n",
       "      <th>0</th>\n",
       "      <td>Afghanistan</td>\n",
       "      <td>1980</td>\n",
       "      <td>no data</td>\n",
       "    </tr>\n",
       "    <tr>\n",
       "      <th>1</th>\n",
       "      <td>Afghanistan</td>\n",
       "      <td>1981</td>\n",
       "      <td>no data</td>\n",
       "    </tr>\n",
       "    <tr>\n",
       "      <th>2</th>\n",
       "      <td>Afghanistan</td>\n",
       "      <td>1982</td>\n",
       "      <td>no data</td>\n",
       "    </tr>\n",
       "    <tr>\n",
       "      <th>3</th>\n",
       "      <td>Afghanistan</td>\n",
       "      <td>1983</td>\n",
       "      <td>no data</td>\n",
       "    </tr>\n",
       "    <tr>\n",
       "      <th>4</th>\n",
       "      <td>Afghanistan</td>\n",
       "      <td>1984</td>\n",
       "      <td>no data</td>\n",
       "    </tr>\n",
       "    <tr>\n",
       "      <th>...</th>\n",
       "      <td>...</td>\n",
       "      <td>...</td>\n",
       "      <td>...</td>\n",
       "    </tr>\n",
       "    <tr>\n",
       "      <th>9799</th>\n",
       "      <td>World</td>\n",
       "      <td>2018</td>\n",
       "      <td>3.6</td>\n",
       "    </tr>\n",
       "    <tr>\n",
       "      <th>9800</th>\n",
       "      <td>World</td>\n",
       "      <td>2019</td>\n",
       "      <td>2.8</td>\n",
       "    </tr>\n",
       "    <tr>\n",
       "      <th>9801</th>\n",
       "      <td>World</td>\n",
       "      <td>2020</td>\n",
       "      <td>-3</td>\n",
       "    </tr>\n",
       "    <tr>\n",
       "      <th>9802</th>\n",
       "      <td>World</td>\n",
       "      <td>2021</td>\n",
       "      <td>6</td>\n",
       "    </tr>\n",
       "    <tr>\n",
       "      <th>9803</th>\n",
       "      <td>World</td>\n",
       "      <td>2022</td>\n",
       "      <td>3.2</td>\n",
       "    </tr>\n",
       "  </tbody>\n",
       "</table>\n",
       "<p>9804 rows × 3 columns</p>\n",
       "</div>"
      ],
      "text/plain": [
       "          Country  Year   Growth\n",
       "0     Afghanistan  1980  no data\n",
       "1     Afghanistan  1981  no data\n",
       "2     Afghanistan  1982  no data\n",
       "3     Afghanistan  1983  no data\n",
       "4     Afghanistan  1984  no data\n",
       "...           ...   ...      ...\n",
       "9799        World  2018      3.6\n",
       "9800        World  2019      2.8\n",
       "9801        World  2020       -3\n",
       "9802        World  2021        6\n",
       "9803        World  2022      3.2\n",
       "\n",
       "[9804 rows x 3 columns]"
      ]
     },
     "execution_count": 6,
     "metadata": {},
     "output_type": "execute_result"
    }
   ],
   "source": [
    "df"
   ]
  },
  {
   "cell_type": "code",
   "execution_count": null,
   "id": "d8067e1f-ffde-4425-be05-910b31449d69",
   "metadata": {},
   "outputs": [],
   "source": []
  }
 ],
 "metadata": {
  "kernelspec": {
   "display_name": "Python 3 (ipykernel)",
   "language": "python",
   "name": "python3"
  },
  "language_info": {
   "codemirror_mode": {
    "name": "ipython",
    "version": 3
   },
   "file_extension": ".py",
   "mimetype": "text/x-python",
   "name": "python",
   "nbconvert_exporter": "python",
   "pygments_lexer": "ipython3",
   "version": "3.10.9"
  }
 },
 "nbformat": 4,
 "nbformat_minor": 5
}
