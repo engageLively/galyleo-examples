{
 "cells": [
  {
   "cell_type": "markdown",
   "id": "comprehensive-exclusive",
   "metadata": {},
   "source": [
    "Import the libraries, as always, and read in the data"
   ]
  },
  {
   "cell_type": "code",
   "execution_count": null,
   "id": "differential-genesis",
   "metadata": {},
   "outputs": [],
   "source": [
    "from galyleo.galyleo_table import GalyleoTable\n",
    "from galyleo.galyleo_constants import GALYLEO_STRING, GALYLEO_NUMBER\n",
    "from galyleo.galyleo_jupyterlab_client import GalyleoClient\n",
    "import csv\n",
    "def cleanse_row(row):\n",
    "    values = [entry.strip() for entry in row]\n",
    "    return [int(values[i]) for i in range(3) ] + values[3:7] + [float(values[7])]\n",
    "with open('../ufos.csv', 'r') as ufo_file:\n",
    "    reader = csv.reader(ufo_file)\n",
    "    next(reader)\n",
    "    data = [cleanse_row(row) for row in reader]\n",
    "ufo_file.close()"
   ]
  },
  {
   "cell_type": "markdown",
   "id": "viral-munich",
   "metadata": {},
   "source": [
    "Let's aggregate by country and year, ignoring all the other fields.  First, find the unique countries and years"
   ]
  },
  {
   "cell_type": "code",
   "execution_count": null,
   "id": "superior-default",
   "metadata": {},
   "outputs": [],
   "source": [
    "countries = set([row[4] for row in data])\n",
    "years = set([row[2] for row in data])\n",
    "keys = [(country, year) for country in countries for year in years]"
   ]
  },
  {
   "cell_type": "markdown",
   "id": "least-windows",
   "metadata": {},
   "source": [
    "Now let's count"
   ]
  },
  {
   "cell_type": "code",
   "execution_count": null,
   "id": "young-export",
   "metadata": {},
   "outputs": [],
   "source": [
    "count = {}\n",
    "for key in keys: count[key] = 0\n",
    "for row in data:\n",
    "    count[(row[4], row[2])] = count[(row[4], row[2])] + 1"
   ]
  },
  {
   "cell_type": "markdown",
   "id": "human-format",
   "metadata": {},
   "source": [
    "Now let's send our counts to the dashboard.  WARNING! WARNING!  Make sure you open a dashboard (File>New>Galyleo Dashboard)"
   ]
  },
  {
   "cell_type": "code",
   "execution_count": null,
   "id": "extra-remedy",
   "metadata": {},
   "outputs": [],
   "source": [
    "table = GalyleoTable('sightings_year_country')\n",
    "schema = [('Country',  GALYLEO_STRING), ('Year', GALYLEO_NUMBER), ('Count',  GALYLEO_NUMBER)]\n",
    "table_data = [[key[0], key[1], count[key]] for key in keys]\n",
    "table.load_from_schema_and_data(schema, table_data)"
   ]
  },
  {
   "cell_type": "markdown",
   "id": "other-juvenile",
   "metadata": {},
   "source": [
    "LAST CHANCE!!! IF YOU HAVEN'T ALREADY, OPEN UP A DASHBOARD NOW!!!"
   ]
  },
  {
   "cell_type": "code",
   "execution_count": null,
   "id": "actual-wagon",
   "metadata": {},
   "outputs": [],
   "source": [
    "client = GalyleoClient()\n",
    "client.send_data_to_dashboard(table)"
   ]
  },
  {
   "cell_type": "markdown",
   "id": "recent-massage",
   "metadata": {},
   "source": [
    "Click over to your new dashboard, open up the sidebar flap with a click on the button (middle, far right side) and observe that under the list on the Tables tab there is an entry, sightings_year_country.  The data was sent!  Now, let's do a selective send.  We're going to open another dashboard, so we have two open at once.  Rename the new dashboard to \"test.gd.json\".\n",
    "Now aggregate by count and state"
   ]
  },
  {
   "cell_type": "code",
   "execution_count": null,
   "id": "activated-roller",
   "metadata": {},
   "outputs": [],
   "source": [
    "state_records = [row for row in data if len(row[3]) > 0]\n",
    "states = set([row[3] for row in state_records])\n",
    "new_keys = [(state, year) for state in states for year in years]\n",
    "state_count = {}\n",
    "for key in new_keys: count[key] = 0\n",
    "for row in state_records:\n",
    "    count[(row[3], row[2])] = count[(row[3], row[2])] + 1\n",
    "table2 = GalyleoTable('sightings_year_state')\n",
    "schema2 = [('State',  GALYLEO_STRING), ('Year', GALYLEO_NUMBER), ('Count',  GALYLEO_NUMBER)]\n",
    "table2_data = [[key[0], key[1], count[key]] for key in keys]\n",
    "table2.load_from_schema_and_data(schema2, table2_data)\n"
   ]
  },
  {
   "cell_type": "markdown",
   "id": "stuffed-macedonia",
   "metadata": {},
   "source": [
    "Send the new table _only_ to \"test.gd.json\""
   ]
  },
  {
   "cell_type": "code",
   "execution_count": null,
   "id": "residential-emerald",
   "metadata": {},
   "outputs": [],
   "source": [
    "client.send_data_to_dashboard(table2, 'test1.gd.json')"
   ]
  }
 ],
 "metadata": {
  "kernelspec": {
   "display_name": "Python 3",
   "language": "python",
   "name": "python3"
  },
  "language_info": {
   "codemirror_mode": {
    "name": "ipython",
    "version": 3
   },
   "file_extension": ".py",
   "mimetype": "text/x-python",
   "name": "python",
   "nbconvert_exporter": "python",
   "pygments_lexer": "ipython3",
   "version": "3.8.8"
  }
 },
 "nbformat": 4,
 "nbformat_minor": 5
}
