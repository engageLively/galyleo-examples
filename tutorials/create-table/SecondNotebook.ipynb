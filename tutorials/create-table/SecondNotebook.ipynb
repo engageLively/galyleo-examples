{
 "cells": [
  {
   "cell_type": "markdown",
   "id": "czech-gnome",
   "metadata": {},
   "source": [
    "# Second Notebook\n",
    "This notebook shows how to read a JSON file containing a Galyleo Table and load it into a table, which also shows how to load a table from JSON\n",
    "Note: this Notebook assumes that you've run FirstNotebook first and have ufos.gt.json on the disk\n",
    "Import the libraries"
   ]
  },
  {
   "cell_type": "code",
   "execution_count": null,
   "id": "activated-small",
   "metadata": {},
   "outputs": [],
   "source": [
    "from galyleo.galyleo_table import GalyleoTable\n",
    "from galyleo.galyleo_constants import GALYLEO_NUMBER, GALYLEO_BOOLEAN, GALYLEO_STRING, GALYLEO_DATE, GALYLEO_DATETIME, GALYLEO_TIME_OF_DAY\n",
    "from json import dumps"
   ]
  },
  {
   "cell_type": "markdown",
   "id": "emerging-diamond",
   "metadata": {},
   "source": [
    "Make the table"
   ]
  },
  {
   "cell_type": "code",
   "execution_count": null,
   "id": "contained-armstrong",
   "metadata": {},
   "outputs": [],
   "source": [
    "table = GalyleoTable('test1')"
   ]
  },
  {
   "cell_type": "markdown",
   "id": "exterior-wrist",
   "metadata": {},
   "source": [
    "Open the file and read the table"
   ]
  },
  {
   "cell_type": "code",
   "execution_count": null,
   "id": "knowing-jacksonville",
   "metadata": {},
   "outputs": [],
   "source": [
    "ufo_file = open('ufos.gt.json', 'r')\n",
    "json_form = ufo_file.read()"
   ]
  },
  {
   "cell_type": "markdown",
   "id": "incorrect-keeping",
   "metadata": {},
   "source": [
    "We are going to load the json_form _twice_, to show something: if we set overwrite_name = False, the table keeps its current name; if we set overwrite_name to be True, it gets the stored name"
   ]
  },
  {
   "cell_type": "code",
   "execution_count": null,
   "id": "coupled-fantasy",
   "metadata": {},
   "outputs": [],
   "source": [
    "table.from_json(json_form, False)\n",
    "len(table.schema) == 8 and table.name == 'test1' and len(table.data) == 75522"
   ]
  },
  {
   "cell_type": "markdown",
   "id": "prescribed-pioneer",
   "metadata": {},
   "source": [
    "Try it again, with overwrite_parameter == True"
   ]
  },
  {
   "cell_type": "code",
   "execution_count": null,
   "id": "unique-lighter",
   "metadata": {},
   "outputs": [],
   "source": [
    "table.from_json(json_form, True)\n",
    "len(table.schema) == 8 and table.name == 'ufos' and len(table.data) == 75522"
   ]
  },
  {
   "cell_type": "markdown",
   "id": "political-creativity",
   "metadata": {},
   "source": [
    "Now let's try something very simple, a little two-row, three-column table to give us an explicit feel for the JSON form"
   ]
  },
  {
   "cell_type": "code",
   "execution_count": null,
   "id": "cleared-relationship",
   "metadata": {},
   "outputs": [],
   "source": [
    "toy_dictionary = {\n",
    "    \"name\": \"toy\",\n",
    "    \"table\": {\n",
    "        \"columns\": [{\"name\": \"name\", \"type\": GALYLEO_STRING}, {\"name\": \"age\", \"type\": GALYLEO_NUMBER}],\n",
    "        \"rows\": [[\"jack\", 25], [\"jill\", 23]]\n",
    "    }\n",
    "}\n",
    "toy_json = dumps(toy_dictionary)\n",
    "table2 = GalyleoTable(\"toy2\")\n",
    "table2.from_json(toy_json)\n",
    "# default for the overwrite_parameter is True, so name is now toy, not toy2!\n",
    "len(table2.schema) == 2 and table2.name == 'toy' and len(table2.data) == 2"
   ]
  },
  {
   "cell_type": "code",
   "execution_count": null,
   "id": "departmental-programmer",
   "metadata": {},
   "outputs": [],
   "source": []
  }
 ],
 "metadata": {
  "kernelspec": {
   "display_name": "Python 3",
   "language": "python",
   "name": "python3"
  },
  "language_info": {
   "codemirror_mode": {
    "name": "ipython",
    "version": 3
   },
   "file_extension": ".py",
   "mimetype": "text/x-python",
   "name": "python",
   "nbconvert_exporter": "python",
   "pygments_lexer": "ipython3",
   "version": "3.8.8"
  }
 },
 "nbformat": 4,
 "nbformat_minor": 5
}
