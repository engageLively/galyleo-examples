{
 "cells": [
  {
   "cell_type": "markdown",
   "id": "naval-berry",
   "metadata": {},
   "source": [
    "# First Tutorial Notebook.\n",
    "This Notebook covers forming a schema, cleaning the data, creating a table and saving it to disk as a table file."
   ]
  },
  {
   "cell_type": "markdown",
   "id": "human-latitude",
   "metadata": {},
   "source": [
    "Import the libraries.  If they are not pre installed on your system, install with\n",
    "% pip install --extra-index-url https://pypi.engagelively.com galyleo\n",
    "GalyleoTable is the table data structure\n",
    "GALYLEO_NUMBER, GALYLEO_BOOLEAN, GALYLEO_STRING, GALYLEO_DATE, GALYLEO_DATETIME, GALYLEO_TIME_OF_DAY are string constants denoting the types"
   ]
  },
  {
   "cell_type": "code",
   "execution_count": null,
   "id": "developmental-indonesia",
   "metadata": {},
   "outputs": [],
   "source": [
    "from galyleo.galyleo_table import GalyleoTable\n",
    "from galyleo.galyleo_constants import GALYLEO_NUMBER, GALYLEO_BOOLEAN, GALYLEO_STRING, GALYLEO_DATE, GALYLEO_DATETIME, GALYLEO_TIME_OF_DAY"
   ]
  },
  {
   "cell_type": "markdown",
   "id": "exact-delicious",
   "metadata": {},
   "source": [
    "Read the file in, and extract the column names from the header"
   ]
  },
  {
   "cell_type": "code",
   "execution_count": null,
   "id": "facial-comedy",
   "metadata": {},
   "outputs": [],
   "source": [
    "import csv\n",
    "ufo_file = open('../ufos.csv', 'r')\n",
    "reader = csv.reader(ufo_file)\n",
    "header = next(reader)"
   ]
  },
  {
   "cell_type": "markdown",
   "id": "postal-resident",
   "metadata": {},
   "source": [
    "Take a look at the header..."
   ]
  },
  {
   "cell_type": "code",
   "execution_count": null,
   "id": "chinese-james",
   "metadata": {},
   "outputs": [],
   "source": [
    "header"
   ]
  },
  {
   "cell_type": "markdown",
   "id": "herbal-edgar",
   "metadata": {},
   "source": [
    "Put in the types for each column"
   ]
  },
  {
   "cell_type": "code",
   "execution_count": null,
   "id": "portuguese-principle",
   "metadata": {},
   "outputs": [],
   "source": [
    "column_types = [GALYLEO_NUMBER, GALYLEO_NUMBER, GALYLEO_NUMBER, GALYLEO_STRING, GALYLEO_STRING, GALYLEO_STRING, GALYLEO_STRING, GALYLEO_NUMBER]"
   ]
  },
  {
   "cell_type": "markdown",
   "id": "extraordinary-albany",
   "metadata": {},
   "source": [
    "Form the schema"
   ]
  },
  {
   "cell_type": "code",
   "execution_count": null,
   "id": "minimal-secondary",
   "metadata": {},
   "outputs": [],
   "source": [
    "schema = [{\"name\": header[i].strip(), \"type\": column_types[i]} for i in range(len(header))]"
   ]
  },
  {
   "cell_type": "markdown",
   "id": "popular-variable",
   "metadata": {},
   "source": [
    "Build the table data.  Start with a routine that strips whitespace from values and converts numbers to numbers"
   ]
  },
  {
   "cell_type": "code",
   "execution_count": null,
   "id": "double-salem",
   "metadata": {},
   "outputs": [],
   "source": [
    "def clean_row(row):\n",
    "    values = [entry.strip() for entry in row]\n",
    "    int_indices = {0, 1, 2}\n",
    "    return [float(values[i]) if i == 7 else int(values[i]) if i in int_indices else values[i] for i in range(len(values))]"
   ]
  },
  {
   "cell_type": "markdown",
   "id": "moved-therapist",
   "metadata": {},
   "source": [
    "Go over the data, adding each cleaned row.  Keep track of rows which fail for some reason"
   ]
  },
  {
   "cell_type": "code",
   "execution_count": null,
   "id": "seventh-counter",
   "metadata": {},
   "outputs": [],
   "source": [
    "data = []\n",
    "bad_rows = []\n",
    "for row in reader:\n",
    "    try:\n",
    "        data.append(clean_row(row))\n",
    "    except Exception:\n",
    "        bad_rows.append(row)\n",
    "    "
   ]
  },
  {
   "cell_type": "markdown",
   "id": "ambient-magnitude",
   "metadata": {},
   "source": [
    "Form the table"
   ]
  },
  {
   "cell_type": "code",
   "execution_count": null,
   "id": "modular-association",
   "metadata": {},
   "outputs": [],
   "source": [
    "bad_rows"
   ]
  },
  {
   "cell_type": "code",
   "execution_count": null,
   "id": "legislative-vintage",
   "metadata": {},
   "outputs": [],
   "source": [
    "table = GalyleoTable(\"ufos\")"
   ]
  },
  {
   "cell_type": "markdown",
   "id": "sweet-cooling",
   "metadata": {},
   "source": [
    "Load the schema and data"
   ]
  },
  {
   "cell_type": "code",
   "execution_count": null,
   "id": "connected-selection",
   "metadata": {},
   "outputs": [],
   "source": [
    "table.load_from_dictionary({\"columns\": schema, \"rows\": data})"
   ]
  },
  {
   "cell_type": "markdown",
   "id": "fixed-bedroom",
   "metadata": {},
   "source": [
    "Write it out as a JSON file to disk, first closing the csv file.  By convention, table files have the suffix .gt.json"
   ]
  },
  {
   "cell_type": "code",
   "execution_count": null,
   "id": "damaged-model",
   "metadata": {},
   "outputs": [],
   "source": [
    "ufo_file.close()\n",
    "table_as_json = table.to_json()\n",
    "json_file = open(\"ufos.gt.json\", \"w\")\n",
    "json_file.write(table_as_json)\n",
    "json_file.close()"
   ]
  },
  {
   "cell_type": "markdown",
   "id": "photographic-bailey",
   "metadata": {},
   "source": [
    "Read it with your favorite JSON viewer"
   ]
  }
 ],
 "metadata": {
  "kernelspec": {
   "display_name": "Python 3",
   "language": "python",
   "name": "python3"
  },
  "language_info": {
   "codemirror_mode": {
    "name": "ipython",
    "version": 3
   },
   "file_extension": ".py",
   "mimetype": "text/x-python",
   "name": "python",
   "nbconvert_exporter": "python",
   "pygments_lexer": "ipython3",
   "version": "3.8.8"
  }
 },
 "nbformat": 4,
 "nbformat_minor": 5
}
