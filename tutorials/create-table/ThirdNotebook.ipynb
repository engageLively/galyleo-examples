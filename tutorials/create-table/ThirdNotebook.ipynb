{
 "cells": [
  {
   "cell_type": "markdown",
   "id": "first-alaska",
   "metadata": {},
   "source": [
    "# Third Notebook\n",
    "This Notebook shows how to import tables from a Pandas Dataframe.  It won't go too much into the stuff that was covered in the other two Notebooks, and we assume you've gone through them first.\n",
    "As always, import the libraries"
   ]
  },
  {
   "cell_type": "code",
   "execution_count": null,
   "id": "instant-expert",
   "metadata": {},
   "outputs": [],
   "source": [
    "from galyleo.galyleo_table import GalyleoTable\n",
    "from galyleo.galyleo_constants import GALYLEO_NUMBER, GALYLEO_BOOLEAN, GALYLEO_STRING, GALYLEO_DATE, GALYLEO_DATETIME, GALYLEO_TIME_OF_DAY\n",
    "import pandas as pd"
   ]
  },
  {
   "cell_type": "markdown",
   "id": "marked-onion",
   "metadata": {},
   "source": [
    "Create a simple dataframe and look at its types"
   ]
  },
  {
   "cell_type": "code",
   "execution_count": null,
   "id": "psychological-pioneer",
   "metadata": {},
   "outputs": [],
   "source": [
    "df2 = pd.DataFrame({\n",
    "    \"Name\": [\"Jack\", \"Jill\"],\n",
    "    \"Age\": [25, 23]\n",
    "})\n",
    "df2.dtypes"
   ]
  },
  {
   "cell_type": "markdown",
   "id": "human-clock",
   "metadata": {},
   "source": [
    "And we can load this directly into Galyleo"
   ]
  },
  {
   "cell_type": "code",
   "execution_count": null,
   "id": "disciplinary-solution",
   "metadata": {},
   "outputs": [],
   "source": [
    "table = GalyleoTable('dataframe1')\n",
    "table.load_from_dataframe(df2)"
   ]
  },
  {
   "cell_type": "markdown",
   "id": "advisory-essex",
   "metadata": {},
   "source": [
    "Notice there was no schema argument!  Galyleo got the types from the dtypes"
   ]
  },
  {
   "cell_type": "code",
   "execution_count": null,
   "id": "everyday-walnut",
   "metadata": {},
   "outputs": [],
   "source": [
    "table.schema"
   ]
  },
  {
   "cell_type": "markdown",
   "id": "greatest-ghost",
   "metadata": {},
   "source": [
    "But this is dangerous..."
   ]
  },
  {
   "cell_type": "code",
   "execution_count": null,
   "id": "economic-guinea",
   "metadata": {},
   "outputs": [],
   "source": [
    "df3 = pd.DataFrame({\n",
    "    \"Name\": [\"Jack\", \"Jill\"],\n",
    "    \"Age\": [25, '']\n",
    "})\n",
    "df3.dtypes"
   ]
  },
  {
   "cell_type": "code",
   "execution_count": null,
   "id": "african-juvenile",
   "metadata": {},
   "outputs": [],
   "source": [
    "table2 = GalyleoTable('dataframe3')\n",
    "table2.load_from_dataframe(df3)"
   ]
  },
  {
   "cell_type": "code",
   "execution_count": null,
   "id": "approximate-standard",
   "metadata": {},
   "outputs": [],
   "source": [
    "table2.schema"
   ]
  },
  {
   "cell_type": "markdown",
   "id": "smaller-strip",
   "metadata": {},
   "source": [
    "Mixed types in Pandas turn into objects, and mixed types (and objects) in Galyleo are interpreted as strings.  load_from_dataframe takes an optional argument, schema, which forces the types"
   ]
  },
  {
   "cell_type": "code",
   "execution_count": null,
   "id": "innovative-tournament",
   "metadata": {},
   "outputs": [],
   "source": [
    "table2.load_from_dataframe(df3, [{'name': 'Name', 'type': 'string'}, {'name': 'Age', 'type': 'number'}])\n",
    "table2.schema"
   ]
  },
  {
   "cell_type": "code",
   "execution_count": null,
   "id": "warming-ballot",
   "metadata": {},
   "outputs": [],
   "source": []
  }
 ],
 "metadata": {
  "kernelspec": {
   "display_name": "Python 3",
   "language": "python",
   "name": "python3"
  },
  "language_info": {
   "codemirror_mode": {
    "name": "ipython",
    "version": 3
   },
   "file_extension": ".py",
   "mimetype": "text/x-python",
   "name": "python",
   "nbconvert_exporter": "python",
   "pygments_lexer": "ipython3",
   "version": "3.8.8"
  }
 },
 "nbformat": 4,
 "nbformat_minor": 5
}
