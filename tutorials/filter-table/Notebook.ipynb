{
 "cells": [
  {
   "cell_type": "markdown",
   "id": "marine-wrong",
   "metadata": {},
   "source": [
    "Import the libraries, as always, and read in the data"
   ]
  },
  {
   "cell_type": "code",
   "execution_count": 1,
   "id": "lesser-explanation",
   "metadata": {},
   "outputs": [],
   "source": [
    "from galyleo.galyleo_table import GalyleoTable\n",
    "from galyleo.galyleo_constants import GALYLEO_STRING, GALYLEO_NUMBER\n",
    "from galyleo.galyleo_jupyterlab_client import GalyleoClient\n",
    "import csv\n",
    "def cleanse_row(row):\n",
    "    values = [entry.strip() for entry in row]\n",
    "    return [int(values[i]) for i in range(3) ] + values[3:7] + [float(values[7])]\n",
    "\n",
    "# read the file and make a table\n",
    "with open('../ufos.csv', 'r') as ufo_file:\n",
    "    reader = csv.reader(ufo_file)\n",
    "    column_names = next(reader)\n",
    "    \n",
    "    data = [cleanse_row(row) for row in reader]\n",
    "ufo_file.close()\n"
   ]
  },
  {
   "cell_type": "code",
   "execution_count": 2,
   "id": "bottom-channel",
   "metadata": {},
   "outputs": [],
   "source": [
    "column_names = [name.strip() for name in column_names]\n",
    "schema = [(column_names[i], GALYLEO_NUMBER) for i in range(3)] + [(column_names[i], GALYLEO_STRING) for i in range(3,7)] + [(column_names[7], GALYLEO_STRING)]\n",
    "table = GalyleoTable('ufos')\n",
    "table.load_from_schema_and_data(schema, data)"
   ]
  },
  {
   "cell_type": "markdown",
   "id": "smart-virginia",
   "metadata": {},
   "source": [
    "Aggregating by a set of columns is something we will do a lot, so let's have a function to do that.  This function takes in a list of column names, a table,  a name for a new table and the name for the new column, computes the list of unique combinations of the values of the columns, and returns a table whose columns are the column names + count_column_name, and whose rows are the unique combinations and the count of each combination"
   ]
  },
  {
   "cell_type": "code",
   "execution_count": 3,
   "id": "bizarre-rugby",
   "metadata": {},
   "outputs": [],
   "source": [
    "from itertools import product\n",
    "def aggregate_by(column_list, galyleo_table, new_table_name, count_column_name):\n",
    "    names = set(column_list)\n",
    "    indices = [i for i in range(len(galyleo_table.schema)) if galyleo_table.schema[i][\"name\"] in names]\n",
    "    unique_values = [set(row[indices[i]] for row in galyleo_table.data) for i in range(len(indices))]\n",
    "    keys = list(product(*unique_values))\n",
    "    count = {}\n",
    "    for key in keys: count[key] = 0\n",
    "    for row in galyleo_table.data:\n",
    "        key = tuple([row[i] for i in indices])\n",
    "        count[key] = count[key] + 1\n",
    "    usable_keys = [key for key in keys if count[key] > 0]\n",
    "    schema = [entry for entry in galyleo_table.schema if entry[\"name\"] in names] + [{\"name\": \"count\", \"type\": GALYLEO_NUMBER}]\n",
    "    result = GalyleoTable(new_table_name)\n",
    "    data = [list(key) + [count[key]] for key in usable_keys]\n",
    "    result.load_from_dictionary({\"columns\": schema, \"rows\": data})\n",
    "    return result"
   ]
  },
  {
   "cell_type": "markdown",
   "id": "injured-strengthening",
   "metadata": {},
   "source": [
    "Aggregate by year, month, country"
   ]
  },
  {
   "cell_type": "code",
   "execution_count": 4,
   "id": "comparable-recall",
   "metadata": {},
   "outputs": [],
   "source": [
    "sightings_by_country_year_month = aggregate_by([ 'country', 'year', 'month'], table, 'aggregate_cmy', 'count')"
   ]
  },
  {
   "cell_type": "markdown",
   "id": "worse-delhi",
   "metadata": {},
   "source": [
    "Create a Dashboard using the Launcher or the File menu, then execute the next cell to send the data to it"
   ]
  },
  {
   "cell_type": "code",
   "execution_count": 6,
   "id": "seeing-procedure",
   "metadata": {},
   "outputs": [],
   "source": [
    "client = GalyleoClient()\n",
    "client.send_data_to_dashboard(sightings_by_country_year_month)"
   ]
  },
  {
   "cell_type": "markdown",
   "id": "biblical-saint",
   "metadata": {},
   "source": []
  }
 ],
 "metadata": {
  "kernelspec": {
   "display_name": "Python 3",
   "language": "python",
   "name": "python3"
  },
  "language_info": {
   "codemirror_mode": {
    "name": "ipython",
    "version": 3
   },
   "file_extension": ".py",
   "mimetype": "text/x-python",
   "name": "python",
   "nbconvert_exporter": "python",
   "pygments_lexer": "ipython3",
   "version": "3.8.8"
  }
 },
 "nbformat": 4,
 "nbformat_minor": 5
}
